{
  "cells": [
    {
      "cell_type": "markdown",
      "metadata": {
        "id": "sT57JtpB8QMu"
      },
      "source": [
        "# Mount"
      ]
    },
    {
      "cell_type": "code",
      "execution_count": 1,
      "metadata": {
        "colab": {
          "base_uri": "https://localhost:8080/"
        },
        "id": "THZ5sNQt7eI5",
        "outputId": "28ee0db3-0c86-40b7-c919-fbc11f53d8cd"
      },
      "outputs": [
        {
          "output_type": "stream",
          "name": "stdout",
          "text": [
            "Mounted at /content/drive\n"
          ]
        }
      ],
      "source": [
        "from google.colab import drive\n",
        "drive.mount('/content/drive')\n",
        "import os\n",
        "import sys"
      ]
    },
    {
      "cell_type": "markdown",
      "metadata": {
        "id": "mP5jFYLT8N8g"
      },
      "source": [
        "## Directory"
      ]
    },
    {
      "cell_type": "code",
      "execution_count": 2,
      "metadata": {
        "colab": {
          "base_uri": "https://localhost:8080/"
        },
        "id": "DzgFHtgJ72Fg",
        "outputId": "df005d97-9248-47de-80fa-e02100d1576d"
      },
      "outputs": [
        {
          "output_type": "stream",
          "name": "stdout",
          "text": [
            "/content/drive/MyDrive/yolov7\n"
          ]
        }
      ],
      "source": [
        "cd /content/drive/MyDrive/yolov7"
      ]
    },
    {
      "cell_type": "markdown",
      "metadata": {
        "id": "kjF7tjjNTdPS"
      },
      "source": [
        "### Data shuffle"
      ]
    },
    {
      "cell_type": "markdown",
      "metadata": {
        "id": "7avyzJ538JJJ"
      },
      "source": [
        "## YOLOv7 Git \n"
      ]
    },
    {
      "cell_type": "code",
      "execution_count": 3,
      "metadata": {
        "id": "U_-HbO317360"
      },
      "outputs": [],
      "source": [
        "#!git clone https://github.com/WongKinYiu/yolov7.git"
      ]
    },
    {
      "cell_type": "markdown",
      "metadata": {
        "id": "4SzqzOpe2j5e"
      },
      "source": [
        "# Train Code (전이학습)\n",
        "--weight : 전이학습에 사용할 weight 파일경로  \n",
        "--data : train set, val set의 경로와 class 설정 파일 경로  \n",
        "--hyp : hyper-param과 augmentation에 사용할 param 파일 경로  \n",
        "여기에 이미지 뒤집기 값은 0으로 바꿔줘야 함(점자가 겹침)  \n",
        "--cfg는 모델의 구조. 사용하는 모델에 따라 다르게 설정.  \n",
        "--name : train 과정에서 생성되는 파일들의 폴더 이름  \n"
      ]
    },
    {
      "cell_type": "code",
      "execution_count": 4,
      "metadata": {
        "id": "3zf1NNvB2jhP"
      },
      "outputs": [],
      "source": [
        "# 640을 입력으로 받은 모델을 학습시키는 코드. weight를 학습에 사용할 weight로 바꿔줘야 함\n",
        "#!python train.py --workers 8 --device 0 --batch-size 16 --epochs 20 --img 1280 1280 --data data/2023_data.yaml --hyp data/hyp.scratch.p6_2023_adam.yaml --cfg cfg/training/yolov7-w6_2023.yaml --name yolov7-custom-all-data --weights yolov7.pt"
      ]
    },
    {
      "cell_type": "code",
      "execution_count": 5,
      "metadata": {
        "id": "Mx21Y-YkX9ox"
      },
      "outputs": [],
      "source": [
        "# 1280을 입력으로 받는 모델을 학습시키려면 train_aux.py로 해야함.\n",
        "#!python train_aux.py --workers 8 --device 0 --batch-size 2 --epochs 10 --img 1280 1280 --data data/mini_data.yaml --hyp data/hyp.scratch.custom.yaml --cfg cfg/training/yolov7-w6.yaml --name yolov7-w6-custom --weights yolov7-w6_training.pt"
      ]
    },
    {
      "cell_type": "markdown",
      "metadata": {
        "id": "wF_E9cHU2svF"
      },
      "source": [
        "#Train Code (전이학습 X)\n",
        "\n",
        "\n",
        "--weights에 ''(작은따옴표 두개) 을 넣어주면 사전학습된 weight를 사용하지 않겠다는 의미이다.\n",
        "\n"
      ]
    },
    {
      "cell_type": "code",
      "execution_count": 6,
      "metadata": {
        "colab": {
          "base_uri": "https://localhost:8080/"
        },
        "id": "coUQ_tSs2q1O",
        "outputId": "dcfec903-9c6a-4e7d-a6e0-6f7e481183e1"
      },
      "outputs": [
        {
          "output_type": "stream",
          "name": "stdout",
          "text": [
            "2023-06-04 00:00:50.808361: I tensorflow/core/platform/cpu_feature_guard.cc:182] This TensorFlow binary is optimized to use available CPU instructions in performance-critical operations.\n",
            "To enable the following instructions: AVX2 FMA, in other operations, rebuild TensorFlow with the appropriate compiler flags.\n",
            "2023-06-04 00:00:51.688298: W tensorflow/compiler/tf2tensorrt/utils/py_utils.cc:38] TF-TRT Warning: Could not find TensorRT\n",
            "YOLOR 🚀 v0.1-122-g3b41c2c torch 2.0.1+cu118 CUDA:0 (Tesla V100-SXM2-16GB, 16150.875MB)\n",
            "\n",
            "Namespace(weights='', cfg='cfg/training/yolov7-w6_2023.yaml', data='data/2023_data.yaml', hyp='data/hyp.scratch.p6_2023_adam.yaml', epochs=10, batch_size=4, img_size=[1280, 1280], rect=False, resume=False, nosave=False, notest=False, noautoanchor=False, evolve=False, bucket='', cache_images=False, image_weights=False, device='0', multi_scale=False, single_cls=False, adam=True, sync_bn=False, local_rank=-1, workers=8, project='runs/train', entity=None, name='yolov7_2023', exist_ok=False, quad=False, linear_lr=False, label_smoothing=0.0, upload_dataset=False, bbox_interval=-1, save_period=-1, artifact_alias='latest', v5_metric=False, world_size=1, global_rank=-1, save_dir='runs/train/yolov7_2023', total_batch_size=4)\n",
            "\u001b[34m\u001b[1mtensorboard: \u001b[0mStart with 'tensorboard --logdir runs/train', view at http://localhost:6006/\n",
            "\u001b[34m\u001b[1mhyperparameters: \u001b[0mlr0=0.00025, lrf=0.2, momentum=0.937, weight_decay=0.0005, warmup_epochs=3.0, warmup_momentum=0.8, warmup_bias_lr=0.1, box=0.05, cls=0.3, cls_pw=1.0, obj=0.7, obj_pw=1.0, iou_t=0.2, anchor_t=4.0, fl_gamma=0.0, hsv_h=0.015, hsv_s=0.7, hsv_v=0.4, degrees=0.0, translate=0.2, scale=0.9, shear=0.0, perspective=0.0, flipud=0.0, fliplr=0.0, mosaic=1.0, mixup=0.15, copy_paste=0.0, paste_in=0.15, loss_ota=1\n",
            "\u001b[34m\u001b[1mwandb: \u001b[0mInstall Weights & Biases for YOLOR logging with 'pip install wandb' (recommended)\n",
            "\n",
            "                 from  n    params  module                                  arguments                     \n",
            "  0                -1  1         0  models.common.ReOrg                     []                            \n",
            "  1                -1  1      7040  models.common.Conv                      [12, 64, 3, 1]                \n",
            "  2                -1  1     73984  models.common.Conv                      [64, 128, 3, 2]               \n",
            "  3                -1  1      8320  models.common.Conv                      [128, 64, 1, 1]               \n",
            "  4                -2  1      8320  models.common.Conv                      [128, 64, 1, 1]               \n",
            "  5                -1  1     36992  models.common.Conv                      [64, 64, 3, 1]                \n",
            "  6                -1  1     36992  models.common.Conv                      [64, 64, 3, 1]                \n",
            "  7                -1  1     36992  models.common.Conv                      [64, 64, 3, 1]                \n",
            "  8                -1  1     36992  models.common.Conv                      [64, 64, 3, 1]                \n",
            "  9  [-1, -3, -5, -6]  1         0  models.common.Concat                    [1]                           \n",
            " 10                -1  1     33024  models.common.Conv                      [256, 128, 1, 1]              \n",
            " 11                -1  1    295424  models.common.Conv                      [128, 256, 3, 2]              \n",
            " 12                -1  1     33024  models.common.Conv                      [256, 128, 1, 1]              \n",
            " 13                -2  1     33024  models.common.Conv                      [256, 128, 1, 1]              \n",
            " 14                -1  1    147712  models.common.Conv                      [128, 128, 3, 1]              \n",
            " 15                -1  1    147712  models.common.Conv                      [128, 128, 3, 1]              \n",
            " 16                -1  1    147712  models.common.Conv                      [128, 128, 3, 1]              \n",
            " 17                -1  1    147712  models.common.Conv                      [128, 128, 3, 1]              \n",
            " 18  [-1, -3, -5, -6]  1         0  models.common.Concat                    [1]                           \n",
            " 19                -1  1    131584  models.common.Conv                      [512, 256, 1, 1]              \n",
            " 20                -1  1   1180672  models.common.Conv                      [256, 512, 3, 2]              \n",
            " 21                -1  1    131584  models.common.Conv                      [512, 256, 1, 1]              \n",
            " 22                -2  1    131584  models.common.Conv                      [512, 256, 1, 1]              \n",
            " 23                -1  1    590336  models.common.Conv                      [256, 256, 3, 1]              \n",
            " 24                -1  1    590336  models.common.Conv                      [256, 256, 3, 1]              \n",
            " 25                -1  1    590336  models.common.Conv                      [256, 256, 3, 1]              \n",
            " 26                -1  1    590336  models.common.Conv                      [256, 256, 3, 1]              \n",
            " 27  [-1, -3, -5, -6]  1         0  models.common.Concat                    [1]                           \n",
            " 28                -1  1    525312  models.common.Conv                      [1024, 512, 1, 1]             \n",
            " 29                -1  1   3540480  models.common.Conv                      [512, 768, 3, 2]              \n",
            " 30                -1  1    295680  models.common.Conv                      [768, 384, 1, 1]              \n",
            " 31                -2  1    295680  models.common.Conv                      [768, 384, 1, 1]              \n",
            " 32                -1  1   1327872  models.common.Conv                      [384, 384, 3, 1]              \n",
            " 33                -1  1   1327872  models.common.Conv                      [384, 384, 3, 1]              \n",
            " 34                -1  1   1327872  models.common.Conv                      [384, 384, 3, 1]              \n",
            " 35                -1  1   1327872  models.common.Conv                      [384, 384, 3, 1]              \n",
            " 36  [-1, -3, -5, -6]  1         0  models.common.Concat                    [1]                           \n",
            " 37                -1  1   1181184  models.common.Conv                      [1536, 768, 1, 1]             \n",
            " 38                -1  1   7079936  models.common.Conv                      [768, 1024, 3, 2]             \n",
            " 39                -1  1    525312  models.common.Conv                      [1024, 512, 1, 1]             \n",
            " 40                -2  1    525312  models.common.Conv                      [1024, 512, 1, 1]             \n",
            " 41                -1  1   2360320  models.common.Conv                      [512, 512, 3, 1]              \n",
            " 42                -1  1   2360320  models.common.Conv                      [512, 512, 3, 1]              \n",
            " 43                -1  1   2360320  models.common.Conv                      [512, 512, 3, 1]              \n",
            " 44                -1  1   2360320  models.common.Conv                      [512, 512, 3, 1]              \n",
            " 45  [-1, -3, -5, -6]  1         0  models.common.Concat                    [1]                           \n",
            " 46                -1  1   2099200  models.common.Conv                      [2048, 1024, 1, 1]            \n",
            " 47                -1  1   7609344  models.common.SPPCSPC                   [1024, 512, 1]                \n",
            " 48                -1  1    197376  models.common.Conv                      [512, 384, 1, 1]              \n",
            " 49                -1  1         0  torch.nn.modules.upsampling.Upsample    [None, 2, 'nearest']          \n",
            " 50                37  1    295680  models.common.Conv                      [768, 384, 1, 1]              \n",
            " 51          [-1, -2]  1         0  models.common.Concat                    [1]                           \n",
            " 52                -1  1    295680  models.common.Conv                      [768, 384, 1, 1]              \n",
            " 53                -2  1    295680  models.common.Conv                      [768, 384, 1, 1]              \n",
            " 54                -1  1    663936  models.common.Conv                      [384, 192, 3, 1]              \n",
            " 55                -1  1    332160  models.common.Conv                      [192, 192, 3, 1]              \n",
            " 56                -1  1    332160  models.common.Conv                      [192, 192, 3, 1]              \n",
            " 57                -1  1    332160  models.common.Conv                      [192, 192, 3, 1]              \n",
            " 58[-1, -2, -3, -4, -5, -6]  1         0  models.common.Concat                    [1]                           \n",
            " 59                -1  1    590592  models.common.Conv                      [1536, 384, 1, 1]             \n",
            " 60                -1  1     98816  models.common.Conv                      [384, 256, 1, 1]              \n",
            " 61                -1  1         0  torch.nn.modules.upsampling.Upsample    [None, 2, 'nearest']          \n",
            " 62                28  1    131584  models.common.Conv                      [512, 256, 1, 1]              \n",
            " 63          [-1, -2]  1         0  models.common.Concat                    [1]                           \n",
            " 64                -1  1    131584  models.common.Conv                      [512, 256, 1, 1]              \n",
            " 65                -2  1    131584  models.common.Conv                      [512, 256, 1, 1]              \n",
            " 66                -1  1    295168  models.common.Conv                      [256, 128, 3, 1]              \n",
            " 67                -1  1    147712  models.common.Conv                      [128, 128, 3, 1]              \n",
            " 68                -1  1    147712  models.common.Conv                      [128, 128, 3, 1]              \n",
            " 69                -1  1    147712  models.common.Conv                      [128, 128, 3, 1]              \n",
            " 70[-1, -2, -3, -4, -5, -6]  1         0  models.common.Concat                    [1]                           \n",
            " 71                -1  1    262656  models.common.Conv                      [1024, 256, 1, 1]             \n",
            " 72                -1  1     33024  models.common.Conv                      [256, 128, 1, 1]              \n",
            " 73                -1  1         0  torch.nn.modules.upsampling.Upsample    [None, 2, 'nearest']          \n",
            " 74                19  1     33024  models.common.Conv                      [256, 128, 1, 1]              \n",
            " 75          [-1, -2]  1         0  models.common.Concat                    [1]                           \n",
            " 76                -1  1     33024  models.common.Conv                      [256, 128, 1, 1]              \n",
            " 77                -2  1     33024  models.common.Conv                      [256, 128, 1, 1]              \n",
            " 78                -1  1     73856  models.common.Conv                      [128, 64, 3, 1]               \n",
            " 79                -1  1     36992  models.common.Conv                      [64, 64, 3, 1]                \n",
            " 80                -1  1     36992  models.common.Conv                      [64, 64, 3, 1]                \n",
            " 81                -1  1     36992  models.common.Conv                      [64, 64, 3, 1]                \n",
            " 82[-1, -2, -3, -4, -5, -6]  1         0  models.common.Concat                    [1]                           \n",
            " 83                -1  1     65792  models.common.Conv                      [512, 128, 1, 1]              \n",
            " 84                -1  1    295424  models.common.Conv                      [128, 256, 3, 2]              \n",
            " 85          [-1, 71]  1         0  models.common.Concat                    [1]                           \n",
            " 86                -1  1    131584  models.common.Conv                      [512, 256, 1, 1]              \n",
            " 87                -2  1    131584  models.common.Conv                      [512, 256, 1, 1]              \n",
            " 88                -1  1    295168  models.common.Conv                      [256, 128, 3, 1]              \n",
            " 89                -1  1    147712  models.common.Conv                      [128, 128, 3, 1]              \n",
            " 90                -1  1    147712  models.common.Conv                      [128, 128, 3, 1]              \n",
            " 91                -1  1    147712  models.common.Conv                      [128, 128, 3, 1]              \n",
            " 92[-1, -2, -3, -4, -5, -6]  1         0  models.common.Concat                    [1]                           \n",
            " 93                -1  1    262656  models.common.Conv                      [1024, 256, 1, 1]             \n",
            " 94                -1  1    885504  models.common.Conv                      [256, 384, 3, 2]              \n",
            " 95          [-1, 59]  1         0  models.common.Concat                    [1]                           \n",
            " 96                -1  1    295680  models.common.Conv                      [768, 384, 1, 1]              \n",
            " 97                -2  1    295680  models.common.Conv                      [768, 384, 1, 1]              \n",
            " 98                -1  1    663936  models.common.Conv                      [384, 192, 3, 1]              \n",
            " 99                -1  1    332160  models.common.Conv                      [192, 192, 3, 1]              \n",
            "100                -1  1    332160  models.common.Conv                      [192, 192, 3, 1]              \n",
            "101                -1  1    332160  models.common.Conv                      [192, 192, 3, 1]              \n",
            "102[-1, -2, -3, -4, -5, -6]  1         0  models.common.Concat                    [1]                           \n",
            "103                -1  1    590592  models.common.Conv                      [1536, 384, 1, 1]             \n",
            "104                -1  1   1770496  models.common.Conv                      [384, 512, 3, 2]              \n",
            "105          [-1, 47]  1         0  models.common.Concat                    [1]                           \n",
            "106                -1  1    525312  models.common.Conv                      [1024, 512, 1, 1]             \n",
            "107                -2  1    525312  models.common.Conv                      [1024, 512, 1, 1]             \n",
            "108                -1  1   1180160  models.common.Conv                      [512, 256, 3, 1]              \n",
            "109                -1  1    590336  models.common.Conv                      [256, 256, 3, 1]              \n",
            "110                -1  1    590336  models.common.Conv                      [256, 256, 3, 1]              \n",
            "111                -1  1    590336  models.common.Conv                      [256, 256, 3, 1]              \n",
            "112[-1, -2, -3, -4, -5, -6]  1         0  models.common.Concat                    [1]                           \n",
            "113                -1  1   1049600  models.common.Conv                      [2048, 512, 1, 1]             \n",
            "114                83  1    295424  models.common.Conv                      [128, 256, 3, 1]              \n",
            "115                93  1   1180672  models.common.Conv                      [256, 512, 3, 1]              \n",
            "116               103  1   2655744  models.common.Conv                      [384, 768, 3, 1]              \n",
            "117               113  1   4720640  models.common.Conv                      [512, 1024, 3, 1]             \n",
            "118                83  1    369280  models.common.Conv                      [128, 320, 3, 1]              \n",
            "119                71  1   1475840  models.common.Conv                      [256, 640, 3, 1]              \n",
            "120                59  1   3319680  models.common.Conv                      [384, 960, 3, 1]              \n",
            "121                47  1   5900800  models.common.Conv                      [512, 1280, 3, 1]             \n",
            "122[114, 115, 116, 117, 118, 119, 120, 121]  1    573988  models.yolo.IAuxDetect                  [28, [[19, 27, 44, 40, 38, 94], [96, 68, 86, 152, 180, 137], [140, 301, 303, 264, 238, 542], [436, 615, 739, 380, 925, 792]], [256, 512, 768, 1024, 320, 640, 960, 1280]]\n",
            "Model Summary: 477 layers, 81412004 parameters, 81412004 gradients\n",
            "\n",
            "Scaled weight_decay = 0.0005\n",
            "Optimizer groups: 115 .bias, 115 conv.weight, 115 other\n",
            "\u001b[34m\u001b[1mtrain: \u001b[0mScanning 'data/train/labels.cache' images and labels... 2410 found, 0 missing, 0 empty, 0 corrupted: 100% 2410/2410 [00:00<?, ?it/s]\n",
            "\u001b[34m\u001b[1mval: \u001b[0mScanning 'data/val/labels.cache' images and labels... 580 found, 0 missing, 0 empty, 0 corrupted: 100% 580/580 [00:00<?, ?it/s]\n",
            "\n",
            "\u001b[34m\u001b[1mautoanchor: \u001b[0mAnalyzing anchors... anchors/target = 5.43, Best Possible Recall (BPR) = 1.0000\n",
            "Image sizes 1280 train, 1280 test\n",
            "Using 4 dataloader workers\n",
            "Logging results to runs/train/yolov7_2023\n",
            "Starting training for 10 epochs...\n",
            "\n",
            "     Epoch   gpu_mem       box       obj       cls     total    labels  img_size\n",
            "       0/9     3.84G   0.04409  0.009188   0.02693    0.0802        33      1280: 100% 603/603 [04:49<00:00,  2.09it/s]\n",
            "               Class      Images      Labels           P           R      mAP@.5  mAP@.5:.95:   0% 0/73 [00:00<?, ?it/s]/usr/local/lib/python3.10/dist-packages/torch/functional.py:504: UserWarning: torch.meshgrid: in an upcoming release, it will be required to pass the indexing argument. (Triggered internally at ../aten/src/ATen/native/TensorShape.cpp:3483.)\n",
            "  return _VF.meshgrid(tensors, **kwargs)  # type: ignore[attr-defined]\n",
            "               Class      Images      Labels           P           R      mAP@.5  mAP@.5:.95: 100% 73/73 [00:49<00:00,  1.47it/s]\n",
            "                 all         580        1350    0.000134    0.000414    4.31e-06    4.31e-07\n",
            "\n",
            "     Epoch   gpu_mem       box       obj       cls     total    labels  img_size\n",
            "       1/9     9.82G   0.03366   0.01088     0.023   0.06753        15      1280: 100% 603/603 [03:52<00:00,  2.59it/s]\n",
            "               Class      Images      Labels           P           R      mAP@.5  mAP@.5:.95: 100% 73/73 [00:10<00:00,  6.65it/s]\n",
            "                 all         580           0           0           0           0           0\n",
            "\n",
            "     Epoch   gpu_mem       box       obj       cls     total    labels  img_size\n",
            "       2/9     10.3G   0.03078   0.01033   0.02258   0.06369        23      1280: 100% 603/603 [03:50<00:00,  2.62it/s]\n",
            "               Class      Images      Labels           P           R      mAP@.5  mAP@.5:.95: 100% 73/73 [00:12<00:00,  5.93it/s]\n",
            "                 all         580        1350     0.00878        0.15     0.00264    0.000479\n",
            "\n",
            "     Epoch   gpu_mem       box       obj       cls     total    labels  img_size\n",
            "       3/9     10.3G   0.02752   0.01067   0.02272   0.06092        11      1280: 100% 603/603 [03:56<00:00,  2.55it/s]\n",
            "               Class      Images      Labels           P           R      mAP@.5  mAP@.5:.95: 100% 73/73 [00:18<00:00,  3.91it/s]\n",
            "                 all         580        1350      0.0126       0.254      0.0138     0.00448\n",
            "\n",
            "     Epoch   gpu_mem       box       obj       cls     total    labels  img_size\n",
            "       4/9     10.3G   0.02626   0.01013   0.02412   0.06051        16      1280: 100% 603/603 [03:54<00:00,  2.57it/s]\n",
            "               Class      Images      Labels           P           R      mAP@.5  mAP@.5:.95: 100% 73/73 [00:13<00:00,  5.37it/s]\n",
            "                 all         580        1350      0.0264       0.281      0.0375      0.0178\n",
            "\n",
            "     Epoch   gpu_mem       box       obj       cls     total    labels  img_size\n",
            "       5/9     10.3G   0.02478  0.009912   0.02579   0.06048         5      1280: 100% 603/603 [03:55<00:00,  2.56it/s]\n",
            "               Class      Images      Labels           P           R      mAP@.5  mAP@.5:.95: 100% 73/73 [00:13<00:00,  5.31it/s]\n",
            "                 all         580        1350      0.0518       0.445      0.0825      0.0462\n",
            "\n",
            "     Epoch   gpu_mem       box       obj       cls     total    labels  img_size\n",
            "       6/9     10.3G   0.02476      0.01   0.02739   0.06215        28      1280: 100% 603/603 [03:55<00:00,  2.56it/s]\n",
            "               Class      Images      Labels           P           R      mAP@.5  mAP@.5:.95: 100% 73/73 [00:13<00:00,  5.55it/s]\n",
            "                 all         580        1350       0.171       0.395       0.146       0.083\n",
            "\n",
            "     Epoch   gpu_mem       box       obj       cls     total    labels  img_size\n",
            "       7/9     10.3G   0.02349  0.009843   0.02786   0.06119        15      1280: 100% 603/603 [03:57<00:00,  2.54it/s]\n",
            "               Class      Images      Labels           P           R      mAP@.5  mAP@.5:.95: 100% 73/73 [00:13<00:00,  5.46it/s]\n",
            "                 all         580        1350       0.221       0.432       0.173       0.107\n",
            "\n",
            "     Epoch   gpu_mem       box       obj       cls     total    labels  img_size\n",
            "       8/9     10.3G    0.0219  0.008947   0.02724   0.05809        10      1280: 100% 603/603 [03:54<00:00,  2.58it/s]\n",
            "               Class      Images      Labels           P           R      mAP@.5  mAP@.5:.95: 100% 73/73 [00:12<00:00,  5.66it/s]\n",
            "                 all         580        1350       0.259       0.436       0.211       0.134\n",
            "\n",
            "     Epoch   gpu_mem       box       obj       cls     total    labels  img_size\n",
            "       9/9     10.3G   0.02118  0.008752   0.02703   0.05696        12      1280: 100% 603/603 [03:55<00:00,  2.57it/s]\n",
            "               Class      Images      Labels           P           R      mAP@.5  mAP@.5:.95: 100% 73/73 [00:14<00:00,  5.07it/s]\n",
            "                 all         580        1350       0.261       0.468       0.238       0.154\n",
            "                   a         580          71       0.128       0.958       0.491       0.306\n",
            "                   b         580          35           0           0         0.1      0.0541\n",
            "                   c         580          45        0.15       0.844       0.293       0.188\n",
            "                   d         580          44       0.111       0.886       0.128       0.076\n",
            "                   e         580          89       0.128           1       0.618       0.384\n",
            "                   f         580          33           1           0      0.0797      0.0559\n",
            "                   g         580          42       0.138       0.262       0.125       0.085\n",
            "                   h         580          32       0.125      0.0312       0.085      0.0497\n",
            "                   i         580          93       0.201       0.925       0.505       0.313\n",
            "                   j         580          33           1      0.0453       0.253       0.149\n",
            "                   k         580          40       0.208        0.75       0.414       0.286\n",
            "                   l         580          55       0.103       0.109       0.109      0.0668\n",
            "                   m         580          59       0.206       0.695       0.273        0.18\n",
            "                   n         580          92       0.116       0.989       0.206       0.138\n",
            "                   o         580          94       0.132           1       0.461       0.301\n",
            "                   p         580          49       0.285       0.204       0.158       0.117\n",
            "                   q         580          38           1           0       0.131      0.0826\n",
            "                   r         580          57       0.184       0.421       0.209        0.13\n",
            "                   s         580          49       0.224       0.224       0.187       0.128\n",
            "                   t         580          96       0.234        0.99       0.597       0.415\n",
            "                   u         580          38       0.147       0.947       0.223       0.158\n",
            "                   v         580          44       0.573      0.0455       0.128      0.0868\n",
            "                   w         580          22       0.136       0.408        0.14      0.0936\n",
            "                   x         580          32       0.157       0.156       0.106      0.0688\n",
            "                   y         580          41      0.0998       0.268      0.0981      0.0605\n",
            "                   z         580          27           0           0      0.0656      0.0408\n",
            "10 epochs completed in 0.750 hours.\n",
            "\n",
            "Optimizer stripped from runs/train/yolov7_2023/weights/last.pt, 163.5MB\n",
            "Optimizer stripped from runs/train/yolov7_2023/weights/best.pt, 163.5MB\n"
          ]
        }
      ],
      "source": [
        "!python train_aux.py --workers 8 --device 0 --batch-size 4 --epochs 10 --img 1280 1280 --adam --data data/2023_data.yaml --hyp data/hyp.scratch.p6_2023_adam.yaml --cfg cfg/training/yolov7-w6_2023.yaml --name yolov7_2023 --weights ''"
      ]
    },
    {
      "cell_type": "markdown",
      "metadata": {
        "id": "8kr_FeCp8CnM"
      },
      "source": [
        "# Detection Code\n",
        "\n",
        "--weight를 테스트하고 싶은 모델 파라미터 파일로 바꿔야 함"
      ]
    },
    {
      "cell_type": "code",
      "execution_count": 7,
      "metadata": {
        "colab": {
          "base_uri": "https://localhost:8080/"
        },
        "id": "iISoYL6W782s",
        "outputId": "ee94de73-814d-4c0d-e3e5-be6c1e01ab1f"
      },
      "outputs": [
        {
          "output_type": "stream",
          "name": "stdout",
          "text": [
            "Namespace(weights=['data/best.pt'], source='data/test', img_size=1280, conf_thres=0.1, iou_thres=0.45, device='', view_img=False, save_txt=False, save_conf=False, nosave=False, classes=None, agnostic_nms=False, augment=False, update=False, project='runs/detect', name='exp', exist_ok=False, no_trace=False)\n",
            "YOLOR 🚀 v0.1-122-g3b41c2c torch 2.0.1+cu118 CUDA:0 (Tesla V100-SXM2-16GB, 16150.875MB)\n",
            "\n",
            "Fusing layers... \n",
            "IAuxDetect.fuse\n",
            "Model Summary: 370 layers, 81376868 parameters, 0 gradients\n",
            " Convert model to Traced-model... \n",
            " traced_script_module saved! \n",
            " model is traced! \n",
            "\n",
            "Traceback (most recent call last):\n",
            "  File \"/content/drive/MyDrive/yolov7/detect.py\", line 196, in <module>\n",
            "    detect()\n",
            "  File \"/content/drive/MyDrive/yolov7/detect.py\", line 57, in detect\n",
            "    dataset = LoadImages(source, img_size=imgsz, stride=stride)\n",
            "  File \"/content/drive/MyDrive/yolov7/utils/datasets.py\", line 138, in __init__\n",
            "    raise Exception(f'ERROR: {p} does not exist')\n",
            "Exception: ERROR: /content/drive/MyDrive/yolov7/data/test does not exist\n"
          ]
        }
      ],
      "source": [
        "!python detect.py --weights data/best.pt --conf 0.1 --img-size 1280 --source data/test"
      ]
    }
  ],
  "metadata": {
    "accelerator": "GPU",
    "colab": {
      "machine_shape": "hm",
      "provenance": [],
      "gpuType": "V100"
    },
    "kernelspec": {
      "display_name": "Python 3",
      "name": "python3"
    },
    "language_info": {
      "name": "python"
    }
  },
  "nbformat": 4,
  "nbformat_minor": 0
}