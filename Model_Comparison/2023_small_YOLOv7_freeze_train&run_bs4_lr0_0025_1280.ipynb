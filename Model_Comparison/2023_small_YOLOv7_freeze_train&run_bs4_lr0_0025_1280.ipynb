{
  "cells": [
    {
      "cell_type": "markdown",
      "metadata": {
        "id": "sT57JtpB8QMu"
      },
      "source": [
        "# Mount"
      ]
    },
    {
      "cell_type": "code",
      "execution_count": 2,
      "metadata": {
        "colab": {
          "base_uri": "https://localhost:8080/"
        },
        "id": "THZ5sNQt7eI5",
        "outputId": "3b238bb1-1297-4f74-8a58-9fc20bd97e67"
      },
      "outputs": [
        {
          "output_type": "stream",
          "name": "stdout",
          "text": [
            "Drive already mounted at /content/drive; to attempt to forcibly remount, call drive.mount(\"/content/drive\", force_remount=True).\n"
          ]
        }
      ],
      "source": [
        "# 내 구글 드라이브 마운트하기 \n",
        "from google.colab import drive\n",
        "drive.mount('/content/drive')\n",
        "import os\n",
        "import sys"
      ]
    },
    {
      "cell_type": "code",
      "source": [
        "# 파일 있는지 확인..\n",
        "# !find /content/gdrive/MyDrive/vision/2023_small_data_split/ -type f | rev | cut -d. -f1 | rev  | tr '[:upper:]' '[:lower:]' | sort | uniq --count | sort -rn"
      ],
      "metadata": {
        "id": "T5mGJYXeBZsv"
      },
      "execution_count": 3,
      "outputs": []
    },
    {
      "cell_type": "markdown",
      "metadata": {
        "id": "mP5jFYLT8N8g"
      },
      "source": [
        "## Directory"
      ]
    },
    {
      "cell_type": "code",
      "execution_count": 4,
      "metadata": {
        "colab": {
          "base_uri": "https://localhost:8080/"
        },
        "id": "DzgFHtgJ72Fg",
        "outputId": "d2af6c0c-7023-4e6f-c278-652ce7140b63"
      },
      "outputs": [
        {
          "output_type": "stream",
          "name": "stdout",
          "text": [
            "/content/drive/MyDrive\n"
          ]
        }
      ],
      "source": [
        "# 현재 경로 변경하기 \n",
        "%cd /content/drive/MyDrive"
      ]
    },
    {
      "cell_type": "code",
      "execution_count": 1,
      "metadata": {
        "colab": {
          "base_uri": "https://localhost:8080/"
        },
        "id": "lN1mECVtODSs",
        "outputId": "f6e3e0e0-8c48-4a61-ad71-d3e4b341f731"
      },
      "outputs": [
        {
          "output_type": "stream",
          "name": "stdout",
          "text": [
            "Mounted at /content/drive\n"
          ]
        }
      ],
      "source": [
        "from google.colab import drive\n",
        "drive.mount('/content/drive')"
      ]
    },
    {
      "cell_type": "markdown",
      "metadata": {
        "id": "kjF7tjjNTdPS"
      },
      "source": [
        "### Data shuffle"
      ]
    },
    {
      "cell_type": "markdown",
      "metadata": {
        "id": "7avyzJ538JJJ"
      },
      "source": [
        "## YOLOv7 Git \n"
      ]
    },
    {
      "cell_type": "code",
      "execution_count": 5,
      "metadata": {
        "id": "U_-HbO317360"
      },
      "outputs": [],
      "source": [
        "# !git clone https://github.com/WongKinYiu/yolov7.git"
      ]
    },
    {
      "cell_type": "code",
      "execution_count": 5,
      "metadata": {
        "colab": {
          "base_uri": "https://localhost:8080/"
        },
        "id": "-KD0ERUEPu5L",
        "outputId": "181850dc-e317-4b0f-ce46-281582aeb09a"
      },
      "outputs": [
        {
          "output_type": "stream",
          "name": "stdout",
          "text": [
            "/content/drive/MyDrive/yolov7\n"
          ]
        }
      ],
      "source": [
        "%cd yolov7"
      ]
    },
    {
      "cell_type": "markdown",
      "metadata": {
        "id": "4SzqzOpe2j5e"
      },
      "source": [
        "# Train Code (전이학습)\n",
        "--weight : 전이학습에 사용할 weight 파일경로  \n",
        "--data : train set, val set의 경로와 class 설정 파일 경로  \n",
        "--hyp : hyper-param과 augmentation에 사용할 param 파일 경로  \n",
        "여기에 이미지 뒤집기 값은 0으로 바꿔줘야 함(점자가 겹침)  \n",
        "--cfg는 모델의 구조. 사용하는 모델에 따라 다르게 설정.  \n",
        "--name : train 과정에서 생성되는 파일들의 폴더 이름  \n"
      ]
    },
    {
      "cell_type": "code",
      "execution_count": null,
      "metadata": {
        "id": "3zf1NNvB2jhP"
      },
      "outputs": [],
      "source": [
        "# # 640을 입력으로 받은 모델을 학습시키는 코드. weight를 학습에 사용할 weight로 바꿔줘야 함\n",
        "# !python train.py --workers 8 --device 0 --batch-size 4 --epochs 10 --img 640 640 --data data/custom_data.yaml --hyp data/hyp.scratch.custom.yaml --cfg cfg/training/yolov7.yaml --name yolov7-custom --weights last.pt --freeze 49"
      ]
    },
    {
      "cell_type": "code",
      "execution_count": 9,
      "metadata": {
        "id": "Mx21Y-YkX9ox",
        "colab": {
          "base_uri": "https://localhost:8080/"
        },
        "outputId": "7cc14bff-bb16-40a0-db43-f7dd1215499a"
      },
      "outputs": [
        {
          "output_type": "stream",
          "name": "stdout",
          "text": [
            "2023-06-04 04:42:11.012379: I tensorflow/core/platform/cpu_feature_guard.cc:182] This TensorFlow binary is optimized to use available CPU instructions in performance-critical operations.\n",
            "To enable the following instructions: AVX2 AVX512F FMA, in other operations, rebuild TensorFlow with the appropriate compiler flags.\n",
            "2023-06-04 04:42:11.939407: W tensorflow/compiler/tf2tensorrt/utils/py_utils.cc:38] TF-TRT Warning: Could not find TensorRT\n",
            "YOLOR 🚀 v0.1-122-g3b41c2c torch 2.0.1+cu118 CUDA:0 (Tesla T4, 15101.8125MB)\n",
            "\n",
            "Namespace(weights='yolov7-w6_training.pt', cfg='cfg/training/yolov7-w6.yaml', data='data/custom_data.yaml', hyp='data/hyp.scratch.p6.yaml', epochs=10, batch_size=4, img_size=[1280, 1280], rect=False, resume=False, nosave=False, notest=False, noautoanchor=False, evolve=False, bucket='', cache_images=False, image_weights=False, device='0', multi_scale=False, single_cls=False, adam=False, sync_bn=False, local_rank=-1, workers=8, project='runs/train', entity=None, name='yolov7-w6-custom', exist_ok=False, quad=False, linear_lr=False, label_smoothing=0.0, upload_dataset=False, bbox_interval=-1, save_period=-1, artifact_alias='latest', v5_metric=False, freeze=[45], world_size=1, global_rank=-1, save_dir='runs/train/yolov7-w6-custom8', total_batch_size=4)\n",
            "\u001b[34m\u001b[1mtensorboard: \u001b[0mStart with 'tensorboard --logdir runs/train', view at http://localhost:6006/\n",
            "\u001b[34m\u001b[1mhyperparameters: \u001b[0mlr0=0.00125, lrf=0.2, momentum=0.937, weight_decay=0.0005, warmup_epochs=3.0, warmup_momentum=0.8, warmup_bias_lr=0.1, box=0.05, cls=0.3, cls_pw=1.0, obj=0.7, obj_pw=1.0, iou_t=0.2, anchor_t=4.0, fl_gamma=0.0, hsv_h=0.015, hsv_s=0.7, hsv_v=0.4, degrees=0.0, translate=0.2, scale=0.9, shear=0.0, perspective=0.0, flipud=0.0, fliplr=0.0, mosaic=1.0, mixup=0.15, copy_paste=0.0, paste_in=0.15, loss_ota=1\n",
            "\u001b[34m\u001b[1mwandb: \u001b[0mInstall Weights & Biases for YOLOR logging with 'pip install wandb' (recommended)\n",
            "Overriding model.yaml nc=80 with nc=28\n",
            "\n",
            "                 from  n    params  module                                  arguments                     \n",
            "  0                -1  1         0  models.common.ReOrg                     []                            \n",
            "  1                -1  1      7040  models.common.Conv                      [12, 64, 3, 1]                \n",
            "  2                -1  1     73984  models.common.Conv                      [64, 128, 3, 2]               \n",
            "  3                -1  1      8320  models.common.Conv                      [128, 64, 1, 1]               \n",
            "  4                -2  1      8320  models.common.Conv                      [128, 64, 1, 1]               \n",
            "  5                -1  1     36992  models.common.Conv                      [64, 64, 3, 1]                \n",
            "  6                -1  1     36992  models.common.Conv                      [64, 64, 3, 1]                \n",
            "  7                -1  1     36992  models.common.Conv                      [64, 64, 3, 1]                \n",
            "  8                -1  1     36992  models.common.Conv                      [64, 64, 3, 1]                \n",
            "  9  [-1, -3, -5, -6]  1         0  models.common.Concat                    [1]                           \n",
            " 10                -1  1     33024  models.common.Conv                      [256, 128, 1, 1]              \n",
            " 11                -1  1    295424  models.common.Conv                      [128, 256, 3, 2]              \n",
            " 12                -1  1     33024  models.common.Conv                      [256, 128, 1, 1]              \n",
            " 13                -2  1     33024  models.common.Conv                      [256, 128, 1, 1]              \n",
            " 14                -1  1    147712  models.common.Conv                      [128, 128, 3, 1]              \n",
            " 15                -1  1    147712  models.common.Conv                      [128, 128, 3, 1]              \n",
            " 16                -1  1    147712  models.common.Conv                      [128, 128, 3, 1]              \n",
            " 17                -1  1    147712  models.common.Conv                      [128, 128, 3, 1]              \n",
            " 18  [-1, -3, -5, -6]  1         0  models.common.Concat                    [1]                           \n",
            " 19                -1  1    131584  models.common.Conv                      [512, 256, 1, 1]              \n",
            " 20                -1  1   1180672  models.common.Conv                      [256, 512, 3, 2]              \n",
            " 21                -1  1    131584  models.common.Conv                      [512, 256, 1, 1]              \n",
            " 22                -2  1    131584  models.common.Conv                      [512, 256, 1, 1]              \n",
            " 23                -1  1    590336  models.common.Conv                      [256, 256, 3, 1]              \n",
            " 24                -1  1    590336  models.common.Conv                      [256, 256, 3, 1]              \n",
            " 25                -1  1    590336  models.common.Conv                      [256, 256, 3, 1]              \n",
            " 26                -1  1    590336  models.common.Conv                      [256, 256, 3, 1]              \n",
            " 27  [-1, -3, -5, -6]  1         0  models.common.Concat                    [1]                           \n",
            " 28                -1  1    525312  models.common.Conv                      [1024, 512, 1, 1]             \n",
            " 29                -1  1   3540480  models.common.Conv                      [512, 768, 3, 2]              \n",
            " 30                -1  1    295680  models.common.Conv                      [768, 384, 1, 1]              \n",
            " 31                -2  1    295680  models.common.Conv                      [768, 384, 1, 1]              \n",
            " 32                -1  1   1327872  models.common.Conv                      [384, 384, 3, 1]              \n",
            " 33                -1  1   1327872  models.common.Conv                      [384, 384, 3, 1]              \n",
            " 34                -1  1   1327872  models.common.Conv                      [384, 384, 3, 1]              \n",
            " 35                -1  1   1327872  models.common.Conv                      [384, 384, 3, 1]              \n",
            " 36  [-1, -3, -5, -6]  1         0  models.common.Concat                    [1]                           \n",
            " 37                -1  1   1181184  models.common.Conv                      [1536, 768, 1, 1]             \n",
            " 38                -1  1   7079936  models.common.Conv                      [768, 1024, 3, 2]             \n",
            " 39                -1  1    525312  models.common.Conv                      [1024, 512, 1, 1]             \n",
            " 40                -2  1    525312  models.common.Conv                      [1024, 512, 1, 1]             \n",
            " 41                -1  1   2360320  models.common.Conv                      [512, 512, 3, 1]              \n",
            " 42                -1  1   2360320  models.common.Conv                      [512, 512, 3, 1]              \n",
            " 43                -1  1   2360320  models.common.Conv                      [512, 512, 3, 1]              \n",
            " 44                -1  1   2360320  models.common.Conv                      [512, 512, 3, 1]              \n",
            " 45  [-1, -3, -5, -6]  1         0  models.common.Concat                    [1]                           \n",
            " 46                -1  1   2099200  models.common.Conv                      [2048, 1024, 1, 1]            \n",
            " 47                -1  1   7609344  models.common.SPPCSPC                   [1024, 512, 1]                \n",
            " 48                -1  1    197376  models.common.Conv                      [512, 384, 1, 1]              \n",
            " 49                -1  1         0  torch.nn.modules.upsampling.Upsample    [None, 2, 'nearest']          \n",
            " 50                37  1    295680  models.common.Conv                      [768, 384, 1, 1]              \n",
            " 51          [-1, -2]  1         0  models.common.Concat                    [1]                           \n",
            " 52                -1  1    295680  models.common.Conv                      [768, 384, 1, 1]              \n",
            " 53                -2  1    295680  models.common.Conv                      [768, 384, 1, 1]              \n",
            " 54                -1  1    663936  models.common.Conv                      [384, 192, 3, 1]              \n",
            " 55                -1  1    332160  models.common.Conv                      [192, 192, 3, 1]              \n",
            " 56                -1  1    332160  models.common.Conv                      [192, 192, 3, 1]              \n",
            " 57                -1  1    332160  models.common.Conv                      [192, 192, 3, 1]              \n",
            " 58[-1, -2, -3, -4, -5, -6]  1         0  models.common.Concat                    [1]                           \n",
            " 59                -1  1    590592  models.common.Conv                      [1536, 384, 1, 1]             \n",
            " 60                -1  1     98816  models.common.Conv                      [384, 256, 1, 1]              \n",
            " 61                -1  1         0  torch.nn.modules.upsampling.Upsample    [None, 2, 'nearest']          \n",
            " 62                28  1    131584  models.common.Conv                      [512, 256, 1, 1]              \n",
            " 63          [-1, -2]  1         0  models.common.Concat                    [1]                           \n",
            " 64                -1  1    131584  models.common.Conv                      [512, 256, 1, 1]              \n",
            " 65                -2  1    131584  models.common.Conv                      [512, 256, 1, 1]              \n",
            " 66                -1  1    295168  models.common.Conv                      [256, 128, 3, 1]              \n",
            " 67                -1  1    147712  models.common.Conv                      [128, 128, 3, 1]              \n",
            " 68                -1  1    147712  models.common.Conv                      [128, 128, 3, 1]              \n",
            " 69                -1  1    147712  models.common.Conv                      [128, 128, 3, 1]              \n",
            " 70[-1, -2, -3, -4, -5, -6]  1         0  models.common.Concat                    [1]                           \n",
            " 71                -1  1    262656  models.common.Conv                      [1024, 256, 1, 1]             \n",
            " 72                -1  1     33024  models.common.Conv                      [256, 128, 1, 1]              \n",
            " 73                -1  1         0  torch.nn.modules.upsampling.Upsample    [None, 2, 'nearest']          \n",
            " 74                19  1     33024  models.common.Conv                      [256, 128, 1, 1]              \n",
            " 75          [-1, -2]  1         0  models.common.Concat                    [1]                           \n",
            " 76                -1  1     33024  models.common.Conv                      [256, 128, 1, 1]              \n",
            " 77                -2  1     33024  models.common.Conv                      [256, 128, 1, 1]              \n",
            " 78                -1  1     73856  models.common.Conv                      [128, 64, 3, 1]               \n",
            " 79                -1  1     36992  models.common.Conv                      [64, 64, 3, 1]                \n",
            " 80                -1  1     36992  models.common.Conv                      [64, 64, 3, 1]                \n",
            " 81                -1  1     36992  models.common.Conv                      [64, 64, 3, 1]                \n",
            " 82[-1, -2, -3, -4, -5, -6]  1         0  models.common.Concat                    [1]                           \n",
            " 83                -1  1     65792  models.common.Conv                      [512, 128, 1, 1]              \n",
            " 84                -1  1    295424  models.common.Conv                      [128, 256, 3, 2]              \n",
            " 85          [-1, 71]  1         0  models.common.Concat                    [1]                           \n",
            " 86                -1  1    131584  models.common.Conv                      [512, 256, 1, 1]              \n",
            " 87                -2  1    131584  models.common.Conv                      [512, 256, 1, 1]              \n",
            " 88                -1  1    295168  models.common.Conv                      [256, 128, 3, 1]              \n",
            " 89                -1  1    147712  models.common.Conv                      [128, 128, 3, 1]              \n",
            " 90                -1  1    147712  models.common.Conv                      [128, 128, 3, 1]              \n",
            " 91                -1  1    147712  models.common.Conv                      [128, 128, 3, 1]              \n",
            " 92[-1, -2, -3, -4, -5, -6]  1         0  models.common.Concat                    [1]                           \n",
            " 93                -1  1    262656  models.common.Conv                      [1024, 256, 1, 1]             \n",
            " 94                -1  1    885504  models.common.Conv                      [256, 384, 3, 2]              \n",
            " 95          [-1, 59]  1         0  models.common.Concat                    [1]                           \n",
            " 96                -1  1    295680  models.common.Conv                      [768, 384, 1, 1]              \n",
            " 97                -2  1    295680  models.common.Conv                      [768, 384, 1, 1]              \n",
            " 98                -1  1    663936  models.common.Conv                      [384, 192, 3, 1]              \n",
            " 99                -1  1    332160  models.common.Conv                      [192, 192, 3, 1]              \n",
            "100                -1  1    332160  models.common.Conv                      [192, 192, 3, 1]              \n",
            "101                -1  1    332160  models.common.Conv                      [192, 192, 3, 1]              \n",
            "102[-1, -2, -3, -4, -5, -6]  1         0  models.common.Concat                    [1]                           \n",
            "103                -1  1    590592  models.common.Conv                      [1536, 384, 1, 1]             \n",
            "104                -1  1   1770496  models.common.Conv                      [384, 512, 3, 2]              \n",
            "105          [-1, 47]  1         0  models.common.Concat                    [1]                           \n",
            "106                -1  1    525312  models.common.Conv                      [1024, 512, 1, 1]             \n",
            "107                -2  1    525312  models.common.Conv                      [1024, 512, 1, 1]             \n",
            "108                -1  1   1180160  models.common.Conv                      [512, 256, 3, 1]              \n",
            "109                -1  1    590336  models.common.Conv                      [256, 256, 3, 1]              \n",
            "110                -1  1    590336  models.common.Conv                      [256, 256, 3, 1]              \n",
            "111                -1  1    590336  models.common.Conv                      [256, 256, 3, 1]              \n",
            "112[-1, -2, -3, -4, -5, -6]  1         0  models.common.Concat                    [1]                           \n",
            "113                -1  1   1049600  models.common.Conv                      [2048, 512, 1, 1]             \n",
            "114                83  1    295424  models.common.Conv                      [128, 256, 3, 1]              \n",
            "115                93  1   1180672  models.common.Conv                      [256, 512, 3, 1]              \n",
            "116               103  1   2655744  models.common.Conv                      [384, 768, 3, 1]              \n",
            "117               113  1   4720640  models.common.Conv                      [512, 1024, 3, 1]             \n",
            "118                83  1    369280  models.common.Conv                      [128, 320, 3, 1]              \n",
            "119                71  1   1475840  models.common.Conv                      [256, 640, 3, 1]              \n",
            "120                59  1   3319680  models.common.Conv                      [384, 960, 3, 1]              \n",
            "121                47  1   5900800  models.common.Conv                      [512, 1280, 3, 1]             \n",
            "122[114, 115, 116, 117, 118, 119, 120, 121]  1    573988  models.yolo.IAuxDetect                  [28, [[19, 27, 44, 40, 38, 94], [96, 68, 86, 152, 180, 137], [140, 301, 303, 264, 238, 542], [436, 615, 739, 380, 925, 792]], [256, 512, 768, 1024, 320, 640, 960, 1280]]\n",
            "Model Summary: 477 layers, 81412004 parameters, 81412004 gradients\n",
            "\n",
            "Transferred 646/668 items from yolov7-w6_training.pt\n",
            "freezing model.1.conv.weight\n",
            "freezing model.1.bn.weight\n",
            "freezing model.1.bn.bias\n",
            "freezing model.2.conv.weight\n",
            "freezing model.2.bn.weight\n",
            "freezing model.2.bn.bias\n",
            "freezing model.3.conv.weight\n",
            "freezing model.3.bn.weight\n",
            "freezing model.3.bn.bias\n",
            "freezing model.4.conv.weight\n",
            "freezing model.4.bn.weight\n",
            "freezing model.4.bn.bias\n",
            "freezing model.5.conv.weight\n",
            "freezing model.5.bn.weight\n",
            "freezing model.5.bn.bias\n",
            "freezing model.6.conv.weight\n",
            "freezing model.6.bn.weight\n",
            "freezing model.6.bn.bias\n",
            "freezing model.7.conv.weight\n",
            "freezing model.7.bn.weight\n",
            "freezing model.7.bn.bias\n",
            "freezing model.8.conv.weight\n",
            "freezing model.8.bn.weight\n",
            "freezing model.8.bn.bias\n",
            "freezing model.10.conv.weight\n",
            "freezing model.10.bn.weight\n",
            "freezing model.10.bn.bias\n",
            "freezing model.11.conv.weight\n",
            "freezing model.11.bn.weight\n",
            "freezing model.11.bn.bias\n",
            "freezing model.12.conv.weight\n",
            "freezing model.12.bn.weight\n",
            "freezing model.12.bn.bias\n",
            "freezing model.13.conv.weight\n",
            "freezing model.13.bn.weight\n",
            "freezing model.13.bn.bias\n",
            "freezing model.14.conv.weight\n",
            "freezing model.14.bn.weight\n",
            "freezing model.14.bn.bias\n",
            "freezing model.15.conv.weight\n",
            "freezing model.15.bn.weight\n",
            "freezing model.15.bn.bias\n",
            "freezing model.16.conv.weight\n",
            "freezing model.16.bn.weight\n",
            "freezing model.16.bn.bias\n",
            "freezing model.17.conv.weight\n",
            "freezing model.17.bn.weight\n",
            "freezing model.17.bn.bias\n",
            "freezing model.19.conv.weight\n",
            "freezing model.19.bn.weight\n",
            "freezing model.19.bn.bias\n",
            "freezing model.20.conv.weight\n",
            "freezing model.20.bn.weight\n",
            "freezing model.20.bn.bias\n",
            "freezing model.21.conv.weight\n",
            "freezing model.21.bn.weight\n",
            "freezing model.21.bn.bias\n",
            "freezing model.22.conv.weight\n",
            "freezing model.22.bn.weight\n",
            "freezing model.22.bn.bias\n",
            "freezing model.23.conv.weight\n",
            "freezing model.23.bn.weight\n",
            "freezing model.23.bn.bias\n",
            "freezing model.24.conv.weight\n",
            "freezing model.24.bn.weight\n",
            "freezing model.24.bn.bias\n",
            "freezing model.25.conv.weight\n",
            "freezing model.25.bn.weight\n",
            "freezing model.25.bn.bias\n",
            "freezing model.26.conv.weight\n",
            "freezing model.26.bn.weight\n",
            "freezing model.26.bn.bias\n",
            "freezing model.28.conv.weight\n",
            "freezing model.28.bn.weight\n",
            "freezing model.28.bn.bias\n",
            "freezing model.29.conv.weight\n",
            "freezing model.29.bn.weight\n",
            "freezing model.29.bn.bias\n",
            "freezing model.30.conv.weight\n",
            "freezing model.30.bn.weight\n",
            "freezing model.30.bn.bias\n",
            "freezing model.31.conv.weight\n",
            "freezing model.31.bn.weight\n",
            "freezing model.31.bn.bias\n",
            "freezing model.32.conv.weight\n",
            "freezing model.32.bn.weight\n",
            "freezing model.32.bn.bias\n",
            "freezing model.33.conv.weight\n",
            "freezing model.33.bn.weight\n",
            "freezing model.33.bn.bias\n",
            "freezing model.34.conv.weight\n",
            "freezing model.34.bn.weight\n",
            "freezing model.34.bn.bias\n",
            "freezing model.35.conv.weight\n",
            "freezing model.35.bn.weight\n",
            "freezing model.35.bn.bias\n",
            "freezing model.37.conv.weight\n",
            "freezing model.37.bn.weight\n",
            "freezing model.37.bn.bias\n",
            "freezing model.38.conv.weight\n",
            "freezing model.38.bn.weight\n",
            "freezing model.38.bn.bias\n",
            "freezing model.39.conv.weight\n",
            "freezing model.39.bn.weight\n",
            "freezing model.39.bn.bias\n",
            "freezing model.40.conv.weight\n",
            "freezing model.40.bn.weight\n",
            "freezing model.40.bn.bias\n",
            "freezing model.41.conv.weight\n",
            "freezing model.41.bn.weight\n",
            "freezing model.41.bn.bias\n",
            "freezing model.42.conv.weight\n",
            "freezing model.42.bn.weight\n",
            "freezing model.42.bn.bias\n",
            "freezing model.43.conv.weight\n",
            "freezing model.43.bn.weight\n",
            "freezing model.43.bn.bias\n",
            "freezing model.44.conv.weight\n",
            "freezing model.44.bn.weight\n",
            "freezing model.44.bn.bias\n",
            "Scaled weight_decay = 0.0005\n",
            "Optimizer groups: 115 .bias, 115 conv.weight, 115 other\n",
            "\u001b[34m\u001b[1mtrain: \u001b[0mScanning 'data/train/labels.cache' images and labels... 2382 found, 0 missing, 0 empty, 0 corrupted: 100% 2382/2382 [00:00<?, ?it/s]\n",
            "\u001b[34m\u001b[1mval: \u001b[0mScanning 'data/val/labels.cache' images and labels... 608 found, 0 missing, 0 empty, 0 corrupted: 100% 608/608 [00:00<?, ?it/s]\n",
            "\n",
            "\u001b[34m\u001b[1mautoanchor: \u001b[0mAnalyzing anchors... anchors/target = 5.46, Best Possible Recall (BPR) = 1.0000\n",
            "Image sizes 1280 train, 1280 test\n",
            "Using 4 dataloader workers\n",
            "Logging results to runs/train/yolov7-w6-custom8\n",
            "Starting training for 10 epochs...\n",
            "\n",
            "     Epoch   gpu_mem       box       obj       cls     total    labels  img_size\n",
            "       0/9     1.81G   0.06277   0.03124   0.03784    0.1318        28      1280: 100% 596/596 [05:27<00:00,  1.82it/s]\n",
            "               Class      Images      Labels           P           R      mAP@.5  mAP@.5:.95:   0% 0/76 [00:00<?, ?it/s]/usr/local/lib/python3.10/dist-packages/torch/functional.py:504: UserWarning: torch.meshgrid: in an upcoming release, it will be required to pass the indexing argument. (Triggered internally at ../aten/src/ATen/native/TensorShape.cpp:3483.)\n",
            "  return _VF.meshgrid(tensors, **kwargs)  # type: ignore[attr-defined]\n",
            "               Class      Images      Labels           P           R      mAP@.5  mAP@.5:.95: 100% 76/76 [01:15<00:00,  1.00it/s]\n",
            "                 all         608           0           0           0           0           0\n",
            "\n",
            "     Epoch   gpu_mem       box       obj       cls     total    labels  img_size\n",
            "       1/9     5.41G   0.04456   0.02026   0.03742    0.1022        28      1280: 100% 596/596 [04:23<00:00,  2.26it/s]\n",
            "               Class      Images      Labels           P           R      mAP@.5  mAP@.5:.95: 100% 76/76 [00:30<00:00,  2.50it/s]\n",
            "                 all         608        1572        0.12       0.359      0.0501       0.015\n",
            "\n",
            "     Epoch   gpu_mem       box       obj       cls     total    labels  img_size\n",
            "       2/9     6.56G   0.04104   0.01291   0.03817   0.09213         7      1280: 100% 596/596 [04:20<00:00,  2.29it/s]\n",
            "               Class      Images      Labels           P           R      mAP@.5  mAP@.5:.95: 100% 76/76 [00:30<00:00,  2.53it/s]\n",
            "                 all         608        1572      0.0217       0.552      0.0426      0.0219\n",
            "\n",
            "     Epoch   gpu_mem       box       obj       cls     total    labels  img_size\n",
            "       3/9     6.56G   0.03452   0.01092   0.03741   0.08285        17      1280: 100% 596/596 [04:19<00:00,  2.29it/s]\n",
            "               Class      Images      Labels           P           R      mAP@.5  mAP@.5:.95: 100% 76/76 [00:30<00:00,  2.50it/s]\n",
            "                 all         608        1572      0.0482       0.671      0.0936      0.0616\n",
            "\n",
            "     Epoch   gpu_mem       box       obj       cls     total    labels  img_size\n",
            "       4/9     6.56G   0.02916   0.00996   0.03726   0.07638         1      1280: 100% 596/596 [04:17<00:00,  2.32it/s]\n",
            "               Class      Images      Labels           P           R      mAP@.5  mAP@.5:.95: 100% 76/76 [00:30<00:00,  2.50it/s]\n",
            "                 all         608        1572        0.04        0.85       0.105      0.0711\n",
            "\n",
            "     Epoch   gpu_mem       box       obj       cls     total    labels  img_size\n",
            "       5/9     6.56G    0.0249  0.009078    0.0374   0.07138         3      1280: 100% 596/596 [04:21<00:00,  2.28it/s]\n",
            "               Class      Images      Labels           P           R      mAP@.5  mAP@.5:.95: 100% 76/76 [00:30<00:00,  2.50it/s]\n",
            "                 all         608        1572      0.0936        0.56       0.172       0.121\n",
            "\n",
            "     Epoch   gpu_mem       box       obj       cls     total    labels  img_size\n",
            "       6/9     6.56G   0.02204  0.008277    0.0374   0.06772        35      1280: 100% 596/596 [04:20<00:00,  2.28it/s]\n",
            "               Class      Images      Labels           P           R      mAP@.5  mAP@.5:.95: 100% 76/76 [00:30<00:00,  2.50it/s]\n",
            "                 all         608        1572       0.346       0.424       0.228       0.167\n",
            "\n",
            "     Epoch   gpu_mem       box       obj       cls     total    labels  img_size\n",
            "       7/9     6.57G   0.02055  0.008107   0.03688   0.06553        33      1280: 100% 596/596 [04:24<00:00,  2.26it/s]\n",
            "               Class      Images      Labels           P           R      mAP@.5  mAP@.5:.95: 100% 76/76 [00:30<00:00,  2.49it/s]\n",
            "                 all         608        1572       0.443       0.379       0.255       0.183\n",
            "\n",
            "     Epoch   gpu_mem       box       obj       cls     total    labels  img_size\n",
            "       8/9     6.57G   0.01938  0.007647   0.03627   0.06331         6      1280: 100% 596/596 [04:26<00:00,  2.24it/s]\n",
            "               Class      Images      Labels           P           R      mAP@.5  mAP@.5:.95: 100% 76/76 [00:30<00:00,  2.50it/s]\n",
            "                 all         608        1572       0.491       0.382       0.279       0.212\n",
            "\n",
            "     Epoch   gpu_mem       box       obj       cls     total    labels  img_size\n",
            "       9/9     6.57G   0.01903  0.007727   0.03647   0.06323        18      1280: 100% 596/596 [04:21<00:00,  2.28it/s]\n",
            "               Class      Images      Labels           P           R      mAP@.5  mAP@.5:.95: 100% 76/76 [00:31<00:00,  2.40it/s]\n",
            "                 all         608        1572       0.505       0.347       0.313       0.234\n",
            "                   0         608          92       0.237       0.963       0.525       0.382\n",
            "                   1         608          47           1           0      0.0521      0.0341\n",
            "                   2         608          63      0.0975      0.0476       0.146      0.0933\n",
            "                   3         608          45           1           0       0.254       0.181\n",
            "                   4         608         127       0.326           1       0.915       0.673\n",
            "                   5         608          37           1           0      0.0472      0.0361\n",
            "                   6         608          46           0           0       0.102      0.0721\n",
            "                   7         608          48           1           0       0.264       0.215\n",
            "                   8         608         117       0.276       0.957       0.817         0.6\n",
            "                   9         608          37           1           0       0.593       0.465\n",
            "                  10         608          33       0.487        0.26       0.352       0.245\n",
            "                  11         608          50       0.155       0.742       0.171       0.125\n",
            "                  12         608          63           0           0       0.116       0.093\n",
            "                  13         608         105       0.154        0.99       0.476       0.361\n",
            "                  14         608         103       0.118           1       0.564        0.44\n",
            "                  15         608          52      0.0281      0.0385       0.126      0.0901\n",
            "                  16         608          22           1           0      0.0231      0.0178\n",
            "                  17         608          61       0.181       0.557       0.194       0.149\n",
            "                  18         608          50        0.29        0.58       0.376       0.305\n",
            "                  19         608         106       0.146           1       0.765       0.577\n",
            "                  20         608          76       0.596       0.834       0.747       0.572\n",
            "                  21         608          49           1           0       0.139       0.104\n",
            "                  22         608          38           1           0       0.218       0.133\n",
            "                  23         608          25           1           0      0.0269      0.0196\n",
            "                  24         608          40      0.0445        0.05      0.0477      0.0361\n",
            "                  25         608          40           1           0      0.0835      0.0621\n",
            "10 epochs completed in 0.862 hours.\n",
            "\n",
            "Optimizer stripped from runs/train/yolov7-w6-custom8/weights/last.pt, 163.5MB\n",
            "Optimizer stripped from runs/train/yolov7-w6-custom8/weights/best.pt, 163.5MB\n"
          ]
        }
      ],
      "source": [
        "# 1280을 입력으로 받는 모델을 학습시키려면 train_aux.py로 해야함.\n",
        "!python train_aux.py --workers 8 --device 0 --batch-size 4 --epochs 10 --img 1280 1280 --data data/custom_data.yaml --hyp data/hyp.scratch.p6.yaml --cfg cfg/training/yolov7-w6.yaml --name yolov7-w6-custom --weights yolov7-w6_training.pt --freeze 45"
      ]
    },
    {
      "cell_type": "code",
      "execution_count": 8,
      "metadata": {
        "id": "r0s6Y2tIMnN-"
      },
      "outputs": [],
      "source": []
    },
    {
      "cell_type": "code",
      "execution_count": 8,
      "metadata": {
        "id": "SmaQmL1-TeZU"
      },
      "outputs": [],
      "source": []
    },
    {
      "cell_type": "code",
      "execution_count": 8,
      "metadata": {
        "id": "VzoTiytgaV2F"
      },
      "outputs": [],
      "source": []
    },
    {
      "cell_type": "code",
      "execution_count": 8,
      "metadata": {
        "id": "cArMuftfhOjl"
      },
      "outputs": [],
      "source": []
    },
    {
      "cell_type": "code",
      "execution_count": 8,
      "metadata": {
        "id": "mA1ioSIwoEt9"
      },
      "outputs": [],
      "source": []
    },
    {
      "cell_type": "code",
      "execution_count": 8,
      "metadata": {
        "id": "9uRNMyhQu8K8"
      },
      "outputs": [],
      "source": []
    },
    {
      "cell_type": "code",
      "execution_count": 8,
      "metadata": {
        "id": "etMVTdyM1zoD"
      },
      "outputs": [],
      "source": []
    },
    {
      "cell_type": "code",
      "execution_count": 8,
      "metadata": {
        "id": "bHR1YtMk8rFI"
      },
      "outputs": [],
      "source": []
    },
    {
      "cell_type": "code",
      "execution_count": 8,
      "metadata": {
        "id": "aHOn0EM5DiiE"
      },
      "outputs": [],
      "source": []
    },
    {
      "cell_type": "code",
      "execution_count": 8,
      "metadata": {
        "id": "qrI3RC4KKZ_G"
      },
      "outputs": [],
      "source": []
    },
    {
      "cell_type": "code",
      "execution_count": 8,
      "metadata": {
        "id": "hYk4XO4YRRcK"
      },
      "outputs": [],
      "source": []
    },
    {
      "cell_type": "code",
      "execution_count": 8,
      "metadata": {
        "id": "AOtfgVr8YI5O"
      },
      "outputs": [],
      "source": []
    },
    {
      "cell_type": "code",
      "execution_count": 8,
      "metadata": {
        "id": "3HYQ-5XkfAWJ"
      },
      "outputs": [],
      "source": []
    },
    {
      "cell_type": "code",
      "execution_count": 8,
      "metadata": {
        "id": "kya5PM4yl3zI"
      },
      "outputs": [],
      "source": []
    },
    {
      "cell_type": "code",
      "execution_count": 8,
      "metadata": {
        "id": "KEydaZiYsvQI"
      },
      "outputs": [],
      "source": []
    },
    {
      "cell_type": "code",
      "execution_count": 8,
      "metadata": {
        "id": "D0olpgVmzmtJ"
      },
      "outputs": [],
      "source": []
    },
    {
      "cell_type": "markdown",
      "metadata": {
        "id": "wF_E9cHU2svF"
      },
      "source": [
        "#Train Code (전이학습 X)\n",
        "\n",
        "\n",
        "--weights에 ''(작은따옴표 두개) 을 넣어주면 사전학습된 weight를 사용하지 않겠다는 의미이다.\n",
        "\n"
      ]
    },
    {
      "cell_type": "code",
      "execution_count": 9,
      "metadata": {
        "id": "coUQ_tSs2q1O"
      },
      "outputs": [],
      "source": [
        "# !python train.py --workers 1 --device 0 --batch-size 8 --epochs 600 --img 640 640 --data data/custom_data.yaml --hyp data/hyp.scratch.custom.yaml --cfg cfg/training/yolov7.yaml --name yolov7-notransfer --weights ''"
      ]
    },
    {
      "cell_type": "markdown",
      "metadata": {
        "id": "8kr_FeCp8CnM"
      },
      "source": [
        "# Detection Code\n",
        "\n",
        "--weight를 테스트하고 싶은 모델 파라미터 파일로 바꿔야 함"
      ]
    },
    {
      "cell_type": "code",
      "execution_count": 10,
      "metadata": {
        "id": "iISoYL6W782s"
      },
      "outputs": [],
      "source": [
        "# !python detect.py --weights best.pt --conf 0.1 --img-size 1280 --save-txt --source test/"
      ]
    },
    {
      "cell_type": "code",
      "execution_count": 10,
      "metadata": {
        "id": "CpW74QHl39Lg"
      },
      "outputs": [],
      "source": []
    }
  ],
  "metadata": {
    "accelerator": "GPU",
    "colab": {
      "machine_shape": "hm",
      "provenance": [],
      "gpuClass": "premium"
    },
    "gpuClass": "premium",
    "kernelspec": {
      "display_name": "Python 3",
      "name": "python3"
    },
    "language_info": {
      "name": "python"
    }
  },
  "nbformat": 4,
  "nbformat_minor": 0
}