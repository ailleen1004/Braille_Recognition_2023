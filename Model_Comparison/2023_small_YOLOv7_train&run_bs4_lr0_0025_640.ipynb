{
  "cells": [
    {
      "cell_type": "markdown",
      "metadata": {
        "id": "sT57JtpB8QMu"
      },
      "source": [
        "# Mount"
      ]
    },
    {
      "cell_type": "code",
      "execution_count": 1,
      "metadata": {
        "colab": {
          "base_uri": "https://localhost:8080/"
        },
        "id": "THZ5sNQt7eI5",
        "outputId": "27936d40-99e8-4d49-dbc8-1796bfea037f"
      },
      "outputs": [
        {
          "output_type": "stream",
          "name": "stdout",
          "text": [
            "Mounted at /content/drive\n"
          ]
        }
      ],
      "source": [
        "# 내 구글 드라이브 마운트하기 \n",
        "from google.colab import drive\n",
        "drive.mount('/content/drive')\n",
        "import os\n",
        "import sys"
      ]
    },
    {
      "cell_type": "code",
      "source": [
        "# 파일 있는지 확인..\n",
        "# !find /content/gdrive/MyDrive/vision/2023_small_data_split/ -type f | rev | cut -d. -f1 | rev  | tr '[:upper:]' '[:lower:]' | sort | uniq --count | sort -rn"
      ],
      "metadata": {
        "id": "T5mGJYXeBZsv"
      },
      "execution_count": 2,
      "outputs": []
    },
    {
      "cell_type": "markdown",
      "metadata": {
        "id": "mP5jFYLT8N8g"
      },
      "source": [
        "## Directory"
      ]
    },
    {
      "cell_type": "code",
      "execution_count": 3,
      "metadata": {
        "colab": {
          "base_uri": "https://localhost:8080/"
        },
        "id": "DzgFHtgJ72Fg",
        "outputId": "1a5e098c-fe09-4cc0-a5eb-7269fc155ce0"
      },
      "outputs": [
        {
          "output_type": "stream",
          "name": "stdout",
          "text": [
            "/content/drive/MyDrive\n"
          ]
        }
      ],
      "source": [
        "# 현재 경로 변경하기 \n",
        "%cd /content/drive/MyDrive"
      ]
    },
    {
      "cell_type": "code",
      "execution_count": 4,
      "metadata": {
        "colab": {
          "base_uri": "https://localhost:8080/"
        },
        "id": "lN1mECVtODSs",
        "outputId": "26611f5e-1b60-48f9-b0cb-2f01875b16a5"
      },
      "outputs": [
        {
          "output_type": "stream",
          "name": "stdout",
          "text": [
            "Drive already mounted at /content/drive; to attempt to forcibly remount, call drive.mount(\"/content/drive\", force_remount=True).\n"
          ]
        }
      ],
      "source": [
        "from google.colab import drive\n",
        "drive.mount('/content/drive')"
      ]
    },
    {
      "cell_type": "markdown",
      "metadata": {
        "id": "kjF7tjjNTdPS"
      },
      "source": [
        "### Data shuffle"
      ]
    },
    {
      "cell_type": "markdown",
      "metadata": {
        "id": "7avyzJ538JJJ"
      },
      "source": [
        "## YOLOv7 Git \n"
      ]
    },
    {
      "cell_type": "code",
      "execution_count": 5,
      "metadata": {
        "id": "U_-HbO317360"
      },
      "outputs": [],
      "source": [
        "# !git clone https://github.com/WongKinYiu/yolov7.git"
      ]
    },
    {
      "cell_type": "code",
      "execution_count": 6,
      "metadata": {
        "colab": {
          "base_uri": "https://localhost:8080/"
        },
        "id": "-KD0ERUEPu5L",
        "outputId": "4520460d-9d5e-4bab-9f69-42c4d37a919b"
      },
      "outputs": [
        {
          "output_type": "stream",
          "name": "stdout",
          "text": [
            "/content/drive/My Drive/yolov7\n"
          ]
        }
      ],
      "source": [
        "%cd yolov7"
      ]
    },
    {
      "cell_type": "markdown",
      "metadata": {
        "id": "4SzqzOpe2j5e"
      },
      "source": [
        "# Train Code (전이학습)\n",
        "--weight : 전이학습에 사용할 weight 파일경로  \n",
        "--data : train set, val set의 경로와 class 설정 파일 경로  \n",
        "--hyp : hyper-param과 augmentation에 사용할 param 파일 경로  \n",
        "여기에 이미지 뒤집기 값은 0으로 바꿔줘야 함(점자가 겹침)  \n",
        "--cfg는 모델의 구조. 사용하는 모델에 따라 다르게 설정.  \n",
        "--name : train 과정에서 생성되는 파일들의 폴더 이름  \n"
      ]
    },
    {
      "cell_type": "code",
      "execution_count": 7,
      "metadata": {
        "id": "3zf1NNvB2jhP",
        "colab": {
          "base_uri": "https://localhost:8080/"
        },
        "outputId": "a36a423c-df81-4dd0-b58d-abed6ace976a"
      },
      "outputs": [
        {
          "output_type": "stream",
          "name": "stdout",
          "text": [
            "2023-06-04 01:06:21.780063: I tensorflow/core/util/port.cc:110] oneDNN custom operations are on. You may see slightly different numerical results due to floating-point round-off errors from different computation orders. To turn them off, set the environment variable `TF_ENABLE_ONEDNN_OPTS=0`.\n",
            "2023-06-04 01:06:21.834058: I tensorflow/core/platform/cpu_feature_guard.cc:182] This TensorFlow binary is optimized to use available CPU instructions in performance-critical operations.\n",
            "To enable the following instructions: AVX2 AVX512F AVX512_VNNI FMA, in other operations, rebuild TensorFlow with the appropriate compiler flags.\n",
            "2023-06-04 01:06:22.787346: W tensorflow/compiler/tf2tensorrt/utils/py_utils.cc:38] TF-TRT Warning: Could not find TensorRT\n",
            "YOLOR 🚀 2023-3-10 torch 2.0.1+cu118 CUDA:0 (NVIDIA A100-SXM4-40GB, 40513.5625MB)\n",
            "\n",
            "Namespace(weights='last.pt', cfg='cfg/training/yolov7.yaml', data='data/custom_data.yaml', hyp='data/hyp.scratch.custom.yaml', epochs=10, batch_size=4, img_size=[640, 640], rect=False, resume=False, nosave=False, notest=False, noautoanchor=False, evolve=False, bucket='', cache_images=False, image_weights=False, device='0', multi_scale=False, single_cls=False, adam=False, sync_bn=False, local_rank=-1, workers=8, project='runs/train', entity=None, name='yolov7-custom', exist_ok=False, quad=False, linear_lr=False, label_smoothing=0.0, upload_dataset=False, bbox_interval=-1, save_period=-1, artifact_alias='latest', freeze=[0], v5_metric=False, world_size=1, global_rank=-1, save_dir='runs/train/yolov7-custom25', total_batch_size=4)\n",
            "\u001b[34m\u001b[1mtensorboard: \u001b[0mStart with 'tensorboard --logdir runs/train', view at http://localhost:6006/\n",
            "\u001b[34m\u001b[1mhyperparameters: \u001b[0mlr0=0.0025, lrf=0.1, momentum=0.937, weight_decay=0.0005, warmup_epochs=3.0, warmup_momentum=0.8, warmup_bias_lr=0.1, box=0.05, cls=0.3, cls_pw=1.0, obj=0.7, obj_pw=1.0, iou_t=0.2, anchor_t=4.0, fl_gamma=0.0, hsv_h=0.015, hsv_s=0.7, hsv_v=0.4, degrees=0.0, translate=0.2, scale=0.5, shear=0.0, perspective=0.0, flipud=0.0, fliplr=0.5, mosaic=1.0, mixup=0.0, copy_paste=0.0, paste_in=0.0, loss_ota=1\n",
            "\u001b[34m\u001b[1mwandb: \u001b[0mInstall Weights & Biases for YOLOR logging with 'pip install wandb' (recommended)\n",
            "Overriding model.yaml nc=80 with nc=28\n",
            "\n",
            "                 from  n    params  module                                  arguments                     \n",
            "  0                -1  1       928  models.common.Conv                      [3, 32, 3, 1]                 \n",
            "  1                -1  1     18560  models.common.Conv                      [32, 64, 3, 2]                \n",
            "  2                -1  1     36992  models.common.Conv                      [64, 64, 3, 1]                \n",
            "  3                -1  1     73984  models.common.Conv                      [64, 128, 3, 2]               \n",
            "  4                -1  1      8320  models.common.Conv                      [128, 64, 1, 1]               \n",
            "  5                -2  1      8320  models.common.Conv                      [128, 64, 1, 1]               \n",
            "  6                -1  1     36992  models.common.Conv                      [64, 64, 3, 1]                \n",
            "  7                -1  1     36992  models.common.Conv                      [64, 64, 3, 1]                \n",
            "  8                -1  1     36992  models.common.Conv                      [64, 64, 3, 1]                \n",
            "  9                -1  1     36992  models.common.Conv                      [64, 64, 3, 1]                \n",
            " 10  [-1, -3, -5, -6]  1         0  models.common.Concat                    [1]                           \n",
            " 11                -1  1     66048  models.common.Conv                      [256, 256, 1, 1]              \n",
            " 12                -1  1         0  models.common.MP                        []                            \n",
            " 13                -1  1     33024  models.common.Conv                      [256, 128, 1, 1]              \n",
            " 14                -3  1     33024  models.common.Conv                      [256, 128, 1, 1]              \n",
            " 15                -1  1    147712  models.common.Conv                      [128, 128, 3, 2]              \n",
            " 16          [-1, -3]  1         0  models.common.Concat                    [1]                           \n",
            " 17                -1  1     33024  models.common.Conv                      [256, 128, 1, 1]              \n",
            " 18                -2  1     33024  models.common.Conv                      [256, 128, 1, 1]              \n",
            " 19                -1  1    147712  models.common.Conv                      [128, 128, 3, 1]              \n",
            " 20                -1  1    147712  models.common.Conv                      [128, 128, 3, 1]              \n",
            " 21                -1  1    147712  models.common.Conv                      [128, 128, 3, 1]              \n",
            " 22                -1  1    147712  models.common.Conv                      [128, 128, 3, 1]              \n",
            " 23  [-1, -3, -5, -6]  1         0  models.common.Concat                    [1]                           \n",
            " 24                -1  1    263168  models.common.Conv                      [512, 512, 1, 1]              \n",
            " 25                -1  1         0  models.common.MP                        []                            \n",
            " 26                -1  1    131584  models.common.Conv                      [512, 256, 1, 1]              \n",
            " 27                -3  1    131584  models.common.Conv                      [512, 256, 1, 1]              \n",
            " 28                -1  1    590336  models.common.Conv                      [256, 256, 3, 2]              \n",
            " 29          [-1, -3]  1         0  models.common.Concat                    [1]                           \n",
            " 30                -1  1    131584  models.common.Conv                      [512, 256, 1, 1]              \n",
            " 31                -2  1    131584  models.common.Conv                      [512, 256, 1, 1]              \n",
            " 32                -1  1    590336  models.common.Conv                      [256, 256, 3, 1]              \n",
            " 33                -1  1    590336  models.common.Conv                      [256, 256, 3, 1]              \n",
            " 34                -1  1    590336  models.common.Conv                      [256, 256, 3, 1]              \n",
            " 35                -1  1    590336  models.common.Conv                      [256, 256, 3, 1]              \n",
            " 36  [-1, -3, -5, -6]  1         0  models.common.Concat                    [1]                           \n",
            " 37                -1  1   1050624  models.common.Conv                      [1024, 1024, 1, 1]            \n",
            " 38                -1  1         0  models.common.MP                        []                            \n",
            " 39                -1  1    525312  models.common.Conv                      [1024, 512, 1, 1]             \n",
            " 40                -3  1    525312  models.common.Conv                      [1024, 512, 1, 1]             \n",
            " 41                -1  1   2360320  models.common.Conv                      [512, 512, 3, 2]              \n",
            " 42          [-1, -3]  1         0  models.common.Concat                    [1]                           \n",
            " 43                -1  1    262656  models.common.Conv                      [1024, 256, 1, 1]             \n",
            " 44                -2  1    262656  models.common.Conv                      [1024, 256, 1, 1]             \n",
            " 45                -1  1    590336  models.common.Conv                      [256, 256, 3, 1]              \n",
            " 46                -1  1    590336  models.common.Conv                      [256, 256, 3, 1]              \n",
            " 47                -1  1    590336  models.common.Conv                      [256, 256, 3, 1]              \n",
            " 48                -1  1    590336  models.common.Conv                      [256, 256, 3, 1]              \n",
            " 49  [-1, -3, -5, -6]  1         0  models.common.Concat                    [1]                           \n",
            " 50                -1  1   1050624  models.common.Conv                      [1024, 1024, 1, 1]            \n",
            " 51                -1  1   7609344  models.common.SPPCSPC                   [1024, 512, 1]                \n",
            " 52                -1  1    131584  models.common.Conv                      [512, 256, 1, 1]              \n",
            " 53                -1  1         0  torch.nn.modules.upsampling.Upsample    [None, 2, 'nearest']          \n",
            " 54                37  1    262656  models.common.Conv                      [1024, 256, 1, 1]             \n",
            " 55          [-1, -2]  1         0  models.common.Concat                    [1]                           \n",
            " 56                -1  1    131584  models.common.Conv                      [512, 256, 1, 1]              \n",
            " 57                -2  1    131584  models.common.Conv                      [512, 256, 1, 1]              \n",
            " 58                -1  1    295168  models.common.Conv                      [256, 128, 3, 1]              \n",
            " 59                -1  1    147712  models.common.Conv                      [128, 128, 3, 1]              \n",
            " 60                -1  1    147712  models.common.Conv                      [128, 128, 3, 1]              \n",
            " 61                -1  1    147712  models.common.Conv                      [128, 128, 3, 1]              \n",
            " 62[-1, -2, -3, -4, -5, -6]  1         0  models.common.Concat                    [1]                           \n",
            " 63                -1  1    262656  models.common.Conv                      [1024, 256, 1, 1]             \n",
            " 64                -1  1     33024  models.common.Conv                      [256, 128, 1, 1]              \n",
            " 65                -1  1         0  torch.nn.modules.upsampling.Upsample    [None, 2, 'nearest']          \n",
            " 66                24  1     65792  models.common.Conv                      [512, 128, 1, 1]              \n",
            " 67          [-1, -2]  1         0  models.common.Concat                    [1]                           \n",
            " 68                -1  1     33024  models.common.Conv                      [256, 128, 1, 1]              \n",
            " 69                -2  1     33024  models.common.Conv                      [256, 128, 1, 1]              \n",
            " 70                -1  1     73856  models.common.Conv                      [128, 64, 3, 1]               \n",
            " 71                -1  1     36992  models.common.Conv                      [64, 64, 3, 1]                \n",
            " 72                -1  1     36992  models.common.Conv                      [64, 64, 3, 1]                \n",
            " 73                -1  1     36992  models.common.Conv                      [64, 64, 3, 1]                \n",
            " 74[-1, -2, -3, -4, -5, -6]  1         0  models.common.Concat                    [1]                           \n",
            " 75                -1  1     65792  models.common.Conv                      [512, 128, 1, 1]              \n",
            " 76                -1  1         0  models.common.MP                        []                            \n",
            " 77                -1  1     16640  models.common.Conv                      [128, 128, 1, 1]              \n",
            " 78                -3  1     16640  models.common.Conv                      [128, 128, 1, 1]              \n",
            " 79                -1  1    147712  models.common.Conv                      [128, 128, 3, 2]              \n",
            " 80      [-1, -3, 63]  1         0  models.common.Concat                    [1]                           \n",
            " 81                -1  1    131584  models.common.Conv                      [512, 256, 1, 1]              \n",
            " 82                -2  1    131584  models.common.Conv                      [512, 256, 1, 1]              \n",
            " 83                -1  1    295168  models.common.Conv                      [256, 128, 3, 1]              \n",
            " 84                -1  1    147712  models.common.Conv                      [128, 128, 3, 1]              \n",
            " 85                -1  1    147712  models.common.Conv                      [128, 128, 3, 1]              \n",
            " 86                -1  1    147712  models.common.Conv                      [128, 128, 3, 1]              \n",
            " 87[-1, -2, -3, -4, -5, -6]  1         0  models.common.Concat                    [1]                           \n",
            " 88                -1  1    262656  models.common.Conv                      [1024, 256, 1, 1]             \n",
            " 89                -1  1         0  models.common.MP                        []                            \n",
            " 90                -1  1     66048  models.common.Conv                      [256, 256, 1, 1]              \n",
            " 91                -3  1     66048  models.common.Conv                      [256, 256, 1, 1]              \n",
            " 92                -1  1    590336  models.common.Conv                      [256, 256, 3, 2]              \n",
            " 93      [-1, -3, 51]  1         0  models.common.Concat                    [1]                           \n",
            " 94                -1  1    525312  models.common.Conv                      [1024, 512, 1, 1]             \n",
            " 95                -2  1    525312  models.common.Conv                      [1024, 512, 1, 1]             \n",
            " 96                -1  1   1180160  models.common.Conv                      [512, 256, 3, 1]              \n",
            " 97                -1  1    590336  models.common.Conv                      [256, 256, 3, 1]              \n",
            " 98                -1  1    590336  models.common.Conv                      [256, 256, 3, 1]              \n",
            " 99                -1  1    590336  models.common.Conv                      [256, 256, 3, 1]              \n",
            "100[-1, -2, -3, -4, -5, -6]  1         0  models.common.Concat                    [1]                           \n",
            "101                -1  1   1049600  models.common.Conv                      [2048, 512, 1, 1]             \n",
            "102                75  1    328704  models.common.RepConv                   [128, 256, 3, 1]              \n",
            "103                88  1   1312768  models.common.RepConv                   [256, 512, 3, 1]              \n",
            "104               101  1   5246976  models.common.RepConv                   [512, 1024, 3, 1]             \n",
            "105   [102, 103, 104]  1    179794  models.yolo.IDetect                     [28, [[12, 16, 19, 36, 40, 28], [36, 75, 76, 55, 72, 146], [142, 110, 192, 243, 459, 401]], [256, 512, 1024]]\n",
            "Model Summary: 415 layers, 37342194 parameters, 37342194 gradients\n",
            "\n",
            "Transferred 552/566 items from last.pt\n",
            "Scaled weight_decay = 0.0005\n",
            "Optimizer groups: 95 .bias, 95 conv.weight, 98 other\n",
            "\u001b[34m\u001b[1mtrain: \u001b[0mScanning 'data/train/labels' images and labels... 2382 found, 0 missing, 0 empty, 0 corrupted: 100% 2382/2382 [15:27<00:00,  2.57it/s]\n",
            "\u001b[34m\u001b[1mtrain: \u001b[0mNew cache created: data/train/labels.cache\n",
            "\u001b[34m\u001b[1mval: \u001b[0mScanning 'data/val/labels' images and labels... 608 found, 0 missing, 0 empty, 0 corrupted: 100% 608/608 [03:43<00:00,  2.72it/s]\n",
            "\u001b[34m\u001b[1mval: \u001b[0mNew cache created: data/val/labels.cache\n",
            "\n",
            "\u001b[34m\u001b[1mautoanchor: \u001b[0mAnalyzing anchors... anchors/target = 4.78, Best Possible Recall (BPR) = 1.0000\n",
            "Image sizes 640 train, 640 test\n",
            "Using 4 dataloader workers\n",
            "Logging results to runs/train/yolov7-custom25\n",
            "Starting training for 10 epochs...\n",
            "\n",
            "     Epoch   gpu_mem       box       obj       cls     total    labels  img_size\n",
            "       0/9     1.25G   0.05194   0.01176   0.03249   0.09619        16       640: 100% 596/596 [01:38<00:00,  6.07it/s]\n",
            "               Class      Images      Labels           P           R      mAP@.5  mAP@.5:.95:   0% 0/76 [00:00<?, ?it/s]/usr/local/lib/python3.10/dist-packages/torch/functional.py:504: UserWarning: torch.meshgrid: in an upcoming release, it will be required to pass the indexing argument. (Triggered internally at ../aten/src/ATen/native/TensorShape.cpp:3483.)\n",
            "  return _VF.meshgrid(tensors, **kwargs)  # type: ignore[attr-defined]\n",
            "               Class      Images      Labels           P           R      mAP@.5  mAP@.5:.95: 100% 76/76 [00:05<00:00, 14.41it/s]\n",
            "                 all         608        1572     0.00192      0.0158    0.000222    5.04e-05\n",
            "\n",
            "     Epoch   gpu_mem       box       obj       cls     total    labels  img_size\n",
            "       1/9     3.65G   0.03485  0.009577   0.03194   0.07637        19       640: 100% 596/596 [01:01<00:00,  9.65it/s]\n",
            "               Class      Images      Labels           P           R      mAP@.5  mAP@.5:.95: 100% 76/76 [00:05<00:00, 14.69it/s]\n",
            "                 all         608        1572       0.186        0.34       0.041      0.0112\n",
            "\n",
            "     Epoch   gpu_mem       box       obj       cls     total    labels  img_size\n",
            "       2/9     4.23G    0.0308  0.006928    0.0318   0.06953         6       640: 100% 596/596 [01:00<00:00,  9.80it/s]\n",
            "               Class      Images      Labels           P           R      mAP@.5  mAP@.5:.95: 100% 76/76 [00:05<00:00, 14.87it/s]\n",
            "                 all         608        1572      0.0358       0.853      0.0541      0.0279\n",
            "\n",
            "     Epoch   gpu_mem       box       obj       cls     total    labels  img_size\n",
            "       3/9     4.23G   0.02522  0.006356   0.03126   0.06283         4       640: 100% 596/596 [01:01<00:00,  9.69it/s]\n",
            "               Class      Images      Labels           P           R      mAP@.5  mAP@.5:.95: 100% 76/76 [00:05<00:00, 14.58it/s]\n",
            "                 all         608        1572      0.0333       0.686      0.0551      0.0265\n",
            "\n",
            "     Epoch   gpu_mem       box       obj       cls     total    labels  img_size\n",
            "       4/9     4.24G   0.02224  0.005421    0.0311   0.05876        28       640: 100% 596/596 [01:00<00:00,  9.90it/s]\n",
            "               Class      Images      Labels           P           R      mAP@.5  mAP@.5:.95: 100% 76/76 [00:05<00:00, 14.47it/s]\n",
            "                 all         608        1572      0.0374        0.64      0.0629      0.0372\n",
            "\n",
            "     Epoch   gpu_mem       box       obj       cls     total    labels  img_size\n",
            "       5/9     4.24G   0.02016  0.005558   0.03105   0.05677         0       640: 100% 596/596 [01:02<00:00,  9.58it/s]\n",
            "               Class      Images      Labels           P           R      mAP@.5  mAP@.5:.95: 100% 76/76 [00:05<00:00, 14.70it/s]\n",
            "                 all         608        1572      0.0387       0.842      0.0686      0.0446\n",
            "\n",
            "     Epoch   gpu_mem       box       obj       cls     total    labels  img_size\n",
            "       6/9     4.24G   0.01908  0.005488   0.03099   0.05556         8       640: 100% 596/596 [01:01<00:00,  9.65it/s]\n",
            "               Class      Images      Labels           P           R      mAP@.5  mAP@.5:.95: 100% 76/76 [00:05<00:00, 14.65it/s]\n",
            "                 all         608        1572      0.0455       0.761      0.0771      0.0528\n",
            "\n",
            "     Epoch   gpu_mem       box       obj       cls     total    labels  img_size\n",
            "       7/9     4.24G   0.01782  0.005054   0.03087   0.05375        16       640: 100% 596/596 [01:01<00:00,  9.70it/s]\n",
            "               Class      Images      Labels           P           R      mAP@.5  mAP@.5:.95: 100% 76/76 [00:05<00:00, 14.60it/s]\n",
            "                 all         608        1572      0.0496       0.531      0.0889      0.0608\n",
            "\n",
            "     Epoch   gpu_mem       box       obj       cls     total    labels  img_size\n",
            "       8/9     4.24G   0.01699  0.004569   0.03074    0.0523         6       640: 100% 596/596 [01:01<00:00,  9.68it/s]\n",
            "               Class      Images      Labels           P           R      mAP@.5  mAP@.5:.95: 100% 76/76 [00:05<00:00, 14.75it/s]\n",
            "                 all         608        1572       0.193       0.318      0.0992        0.07\n",
            "\n",
            "     Epoch   gpu_mem       box       obj       cls     total    labels  img_size\n",
            "       9/9     4.24G   0.01653  0.004534   0.03061   0.05167        14       640: 100% 596/596 [01:01<00:00,  9.66it/s]\n",
            "               Class      Images      Labels           P           R      mAP@.5  mAP@.5:.95: 100% 76/76 [00:05<00:00, 13.38it/s]\n",
            "                 all         608        1572      0.0993        0.44         0.1      0.0706\n",
            "                   0         608          92        0.11       0.859       0.169       0.114\n",
            "                   1         608          47           0           0       0.111      0.0711\n",
            "                   2         608          63       0.142       0.381       0.135      0.0938\n",
            "                   3         608          45      0.0443       0.378      0.0647      0.0448\n",
            "                   4         608         127       0.086       0.961       0.285       0.181\n",
            "                   5         608          37      0.0416      0.0811      0.0502      0.0358\n",
            "                   6         608          46       0.068       0.522      0.0701      0.0475\n",
            "                   7         608          48      0.0295       0.167      0.0308      0.0205\n",
            "                   8         608         117      0.0988       0.983       0.244       0.174\n",
            "                   9         608          37           0           0      0.0378      0.0295\n",
            "                  10         608          33      0.0383       0.242      0.0306      0.0229\n",
            "                  11         608          50      0.0594        0.72       0.141       0.108\n",
            "                  12         608          63      0.0889       0.195      0.0652      0.0491\n",
            "                  13         608         105      0.0712        0.99       0.114      0.0842\n",
            "                  14         608         103      0.0649       0.951       0.157       0.115\n",
            "                  15         608          52      0.0523       0.654      0.0699       0.051\n",
            "                  16         608          22      0.0968       0.455      0.0839      0.0607\n",
            "                  17         608          61      0.0524       0.902        0.12      0.0885\n",
            "                  18         608          50      0.0188        0.06      0.0421      0.0316\n",
            "                  19         608         106      0.0757       0.972       0.118      0.0787\n",
            "                  20         608          76           0           0      0.0536       0.039\n",
            "                  21         608          49        0.13       0.469       0.184       0.129\n",
            "                  22         608          38      0.0696       0.132      0.0757      0.0514\n",
            "                  23         608          25       0.042        0.16      0.0452      0.0309\n",
            "                  24         608          40       0.101         0.2      0.0853      0.0646\n",
            "                  25         608          40           1           0      0.0264      0.0182\n",
            "10 epochs completed in 0.204 hours.\n",
            "\n",
            "Optimizer stripped from runs/train/yolov7-custom25/weights/last.pt, 75.1MB\n",
            "Optimizer stripped from runs/train/yolov7-custom25/weights/best.pt, 75.1MB\n"
          ]
        }
      ],
      "source": [
        "# 640을 입력으로 받은 모델을 학습시키는 코드. weight를 학습에 사용할 weight로 바꿔줘야 함\n",
        "!python train.py --workers 8 --device 0 --batch-size 4 --epochs 10 --img 640 640 --data data/custom_data.yaml --hyp data/hyp.scratch.custom.yaml --cfg cfg/training/yolov7.yaml --name yolov7-custom --weights last.pt"
      ]
    },
    {
      "cell_type": "code",
      "execution_count": 8,
      "metadata": {
        "id": "Mx21Y-YkX9ox"
      },
      "outputs": [],
      "source": [
        "# 1280을 입력으로 받는 모델을 학습시키려면 train_aux.py로 해야함.\n",
        "# !python train_aux.py --workers 8 --device 0 --batch-size 4 --epochs 10 --img 1280 1280 --data data/custom_data.yaml --hyp data/hyp.scratch.p6.yaml --cfg cfg/training/yolov7-w6.yaml --name yolov7-w6-custom --weights yolov7-w6_training.pt"
      ]
    },
    {
      "cell_type": "code",
      "execution_count": 8,
      "metadata": {
        "id": "r0s6Y2tIMnN-"
      },
      "outputs": [],
      "source": []
    },
    {
      "cell_type": "code",
      "execution_count": 8,
      "metadata": {
        "id": "SmaQmL1-TeZU"
      },
      "outputs": [],
      "source": []
    },
    {
      "cell_type": "code",
      "execution_count": 8,
      "metadata": {
        "id": "VzoTiytgaV2F"
      },
      "outputs": [],
      "source": []
    },
    {
      "cell_type": "code",
      "execution_count": 8,
      "metadata": {
        "id": "cArMuftfhOjl"
      },
      "outputs": [],
      "source": []
    },
    {
      "cell_type": "code",
      "execution_count": 8,
      "metadata": {
        "id": "mA1ioSIwoEt9"
      },
      "outputs": [],
      "source": []
    },
    {
      "cell_type": "code",
      "execution_count": 8,
      "metadata": {
        "id": "9uRNMyhQu8K8"
      },
      "outputs": [],
      "source": []
    },
    {
      "cell_type": "code",
      "execution_count": 8,
      "metadata": {
        "id": "etMVTdyM1zoD"
      },
      "outputs": [],
      "source": []
    },
    {
      "cell_type": "code",
      "execution_count": 8,
      "metadata": {
        "id": "bHR1YtMk8rFI"
      },
      "outputs": [],
      "source": []
    },
    {
      "cell_type": "code",
      "execution_count": 8,
      "metadata": {
        "id": "aHOn0EM5DiiE"
      },
      "outputs": [],
      "source": []
    },
    {
      "cell_type": "code",
      "execution_count": 8,
      "metadata": {
        "id": "qrI3RC4KKZ_G"
      },
      "outputs": [],
      "source": []
    },
    {
      "cell_type": "code",
      "execution_count": 8,
      "metadata": {
        "id": "hYk4XO4YRRcK"
      },
      "outputs": [],
      "source": []
    },
    {
      "cell_type": "code",
      "execution_count": 8,
      "metadata": {
        "id": "AOtfgVr8YI5O"
      },
      "outputs": [],
      "source": []
    },
    {
      "cell_type": "code",
      "execution_count": 8,
      "metadata": {
        "id": "3HYQ-5XkfAWJ"
      },
      "outputs": [],
      "source": []
    },
    {
      "cell_type": "code",
      "execution_count": 8,
      "metadata": {
        "id": "kya5PM4yl3zI"
      },
      "outputs": [],
      "source": []
    },
    {
      "cell_type": "code",
      "execution_count": 8,
      "metadata": {
        "id": "KEydaZiYsvQI"
      },
      "outputs": [],
      "source": []
    },
    {
      "cell_type": "code",
      "execution_count": 8,
      "metadata": {
        "id": "D0olpgVmzmtJ"
      },
      "outputs": [],
      "source": []
    },
    {
      "cell_type": "markdown",
      "metadata": {
        "id": "wF_E9cHU2svF"
      },
      "source": [
        "#Train Code (전이학습 X)\n",
        "\n",
        "\n",
        "--weights에 ''(작은따옴표 두개) 을 넣어주면 사전학습된 weight를 사용하지 않겠다는 의미이다.\n",
        "\n"
      ]
    },
    {
      "cell_type": "code",
      "execution_count": 9,
      "metadata": {
        "id": "coUQ_tSs2q1O"
      },
      "outputs": [],
      "source": [
        "# !python train.py --workers 1 --device 0 --batch-size 8 --epochs 600 --img 640 640 --data data/custom_data.yaml --hyp data/hyp.scratch.custom.yaml --cfg cfg/training/yolov7.yaml --name yolov7-notransfer --weights ''"
      ]
    },
    {
      "cell_type": "markdown",
      "metadata": {
        "id": "8kr_FeCp8CnM"
      },
      "source": [
        "# Detection Code\n",
        "\n",
        "--weight를 테스트하고 싶은 모델 파라미터 파일로 바꿔야 함"
      ]
    },
    {
      "cell_type": "code",
      "execution_count": 10,
      "metadata": {
        "colab": {
          "base_uri": "https://localhost:8080/"
        },
        "id": "iISoYL6W782s",
        "outputId": "ed9c9ff2-52e1-40b4-a0aa-7f4d7194322c"
      },
      "outputs": [
        {
          "output_type": "stream",
          "name": "stdout",
          "text": [
            "Namespace(weights=['best.pt'], source='test/', img_size=1280, conf_thres=0.1, iou_thres=0.45, device='', view_img=False, save_txt=True, save_conf=False, nosave=False, classes=None, agnostic_nms=False, augment=False, update=False, project='runs/detect', name='exp', exist_ok=False, no_trace=False)\n",
            "YOLOR 🚀 v0.1-122-g3b41c2c torch 2.0.1+cu118 CUDA:0 (NVIDIA A100-SXM4-40GB, 40513.5625MB)\n",
            "\n",
            "Fusing layers... \n",
            "IAuxDetect.fuse\n",
            "Model Summary: 370 layers, 81376868 parameters, 0 gradients\n",
            " Convert model to Traced-model... \n",
            " traced_script_module saved! \n",
            " model is traced! \n",
            "\n",
            "/usr/local/lib/python3.10/dist-packages/torch/functional.py:504: UserWarning: torch.meshgrid: in an upcoming release, it will be required to pass the indexing argument. (Triggered internally at ../aten/src/ATen/native/TensorShape.cpp:3483.)\n",
            "  return _VF.meshgrid(tensors, **kwargs)  # type: ignore[attr-defined]\n",
            "2 as, 2 ds, 2 es, 1 h, 1 i, 2 ls, 1 m, 1 o, 1 t, 1 u, Done. (7.4ms) Inference, (1.6ms) NMS\n",
            " The image with the result is saved in: runs/detect/exp19/sen_1.png\n",
            "Done. (1.682s)\n"
          ]
        }
      ],
      "source": [
        "# !python detect.py --weights best.pt --conf 0.1 --img-size 1280 --save-txt --source test/"
      ]
    },
    {
      "cell_type": "code",
      "execution_count": 10,
      "metadata": {
        "id": "CpW74QHl39Lg"
      },
      "outputs": [],
      "source": []
    }
  ],
  "metadata": {
    "accelerator": "GPU",
    "colab": {
      "machine_shape": "hm",
      "provenance": [],
      "gpuClass": "premium"
    },
    "gpuClass": "premium",
    "kernelspec": {
      "display_name": "Python 3",
      "name": "python3"
    },
    "language_info": {
      "name": "python"
    }
  },
  "nbformat": 4,
  "nbformat_minor": 0
}